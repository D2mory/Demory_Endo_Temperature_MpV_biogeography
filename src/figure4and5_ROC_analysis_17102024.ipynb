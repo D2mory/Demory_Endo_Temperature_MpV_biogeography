{
 "cells": [
  {
   "cell_type": "markdown",
   "id": "3bba76b0",
   "metadata": {},
   "source": [
    "# TARA MpV Temperature\n",
    "## Figure 4\n",
    "### Modelling ROC curves\n",
    "**David Demory and Hisashi Endo -- 17 Oct. 2024**"
   ]
  },
  {
   "cell_type": "markdown",
   "id": "0bd09688",
   "metadata": {},
   "source": [
    "## Setup the environment"
   ]
  },
  {
   "cell_type": "code",
   "execution_count": 1,
   "id": "3c1234c0",
   "metadata": {},
   "outputs": [],
   "source": [
    "## Workspace\n",
    "rm(list = ls())\n",
    "workdir = \"../\" #set your path to the folder \"Demory_Endo_Temperature_MpV_biogeography\"\n",
    "setwd(workdir)\n",
    "#getwd()"
   ]
  },
  {
   "cell_type": "code",
   "execution_count": 3,
   "id": "657e3889",
   "metadata": {},
   "outputs": [],
   "source": [
    "## load libraries\n",
    "library(ggplot2)\n",
    "library(dplyr)\n",
    "library(reshape2)\n",
    "library(pROC)\n",
    "library(gridExtra)\n",
    "library(grid)"
   ]
  },
  {
   "cell_type": "code",
   "execution_count": 4,
   "id": "93302217",
   "metadata": {},
   "outputs": [
    {
     "data": {
      "text/html": [
       "<table class=\"dataframe\">\n",
       "<caption>A data.frame: 6 × 15</caption>\n",
       "<thead>\n",
       "\t<tr><th></th><th scope=col>query.acc.ver</th><th scope=col>subject.acc.ver</th><th scope=col>X..identity</th><th scope=col>alignment.length</th><th scope=col>mismatches</th><th scope=col>gap.opens</th><th scope=col>q.start</th><th scope=col>q.end</th><th scope=col>s.start</th><th scope=col>s.end</th><th scope=col>evalue</th><th scope=col>bit.score</th><th scope=col>strain.V</th><th scope=col>sp.V</th><th scope=col>phylotype</th></tr>\n",
       "\t<tr><th></th><th scope=col>&lt;chr&gt;</th><th scope=col>&lt;chr&gt;</th><th scope=col>&lt;dbl&gt;</th><th scope=col>&lt;int&gt;</th><th scope=col>&lt;int&gt;</th><th scope=col>&lt;int&gt;</th><th scope=col>&lt;int&gt;</th><th scope=col>&lt;int&gt;</th><th scope=col>&lt;int&gt;</th><th scope=col>&lt;int&gt;</th><th scope=col>&lt;dbl&gt;</th><th scope=col>&lt;int&gt;</th><th scope=col>&lt;chr&gt;</th><th scope=col>&lt;chr&gt;</th><th scope=col>&lt;chr&gt;</th></tr>\n",
       "</thead>\n",
       "<tbody>\n",
       "\t<tr><th scope=row>4</th><td>KP734132.1</td><td>TARA_067_SRF_0.45-0.8_G_scaffold219644_1_gene229127</td><td>98.878</td><td>624</td><td> 7</td><td>0</td><td>1</td><td>624</td><td>1384</td><td>2007</td><td>0</td><td>1114</td><td>4224</td><td>MicV-C</td><td>NA</td></tr>\n",
       "\t<tr><th scope=row>5</th><td>KP734141.1</td><td>TARA_067_SRF_0.45-0.8_G_scaffold219644_1_gene229127</td><td>99.191</td><td>618</td><td> 5</td><td>0</td><td>7</td><td>624</td><td>1390</td><td>2007</td><td>0</td><td>1114</td><td>4225</td><td>MicV-C</td><td>NA</td></tr>\n",
       "\t<tr><th scope=row>6</th><td>KP734135.1</td><td>TARA_067_SRF_0.45-0.8_G_scaffold219644_1_gene229127</td><td>99.065</td><td>642</td><td> 6</td><td>0</td><td>1</td><td>642</td><td>1390</td><td>2031</td><td>0</td><td>1153</td><td>4226</td><td>MicV-C</td><td>NA</td></tr>\n",
       "\t<tr><th scope=row>7</th><td>KP734130.1</td><td>TARA_067_SRF_0.45-0.8_G_scaffold219644_1_gene229127</td><td>97.782</td><td>496</td><td>10</td><td>1</td><td>1</td><td>495</td><td>1458</td><td>1953</td><td>0</td><td> 854</td><td>4228</td><td>MicV-C</td><td>NA</td></tr>\n",
       "\t<tr><th scope=row>8</th><td>KP734133.1</td><td>TARA_067_SRF_0.45-0.8_G_scaffold219644_1_gene229127</td><td>98.878</td><td>624</td><td> 7</td><td>0</td><td>1</td><td>624</td><td>1384</td><td>2007</td><td>0</td><td>1114</td><td>4229</td><td>MicV-C</td><td>NA</td></tr>\n",
       "\t<tr><th scope=row>9</th><td>KP734131.1</td><td>TARA_067_SRF_0.45-0.8_G_scaffold219644_1_gene229127</td><td>98.276</td><td>580</td><td>10</td><td>0</td><td>1</td><td>580</td><td>1378</td><td>1957</td><td>0</td><td>1016</td><td>4230</td><td>MicV-C</td><td>NA</td></tr>\n",
       "</tbody>\n",
       "</table>\n"
      ],
      "text/latex": [
       "A data.frame: 6 × 15\n",
       "\\begin{tabular}{r|lllllllllllllll}\n",
       "  & query.acc.ver & subject.acc.ver & X..identity & alignment.length & mismatches & gap.opens & q.start & q.end & s.start & s.end & evalue & bit.score & strain.V & sp.V & phylotype\\\\\n",
       "  & <chr> & <chr> & <dbl> & <int> & <int> & <int> & <int> & <int> & <int> & <int> & <dbl> & <int> & <chr> & <chr> & <chr>\\\\\n",
       "\\hline\n",
       "\t4 & KP734132.1 & TARA\\_067\\_SRF\\_0.45-0.8\\_G\\_scaffold219644\\_1\\_gene229127 & 98.878 & 624 &  7 & 0 & 1 & 624 & 1384 & 2007 & 0 & 1114 & 4224 & MicV-C & NA\\\\\n",
       "\t5 & KP734141.1 & TARA\\_067\\_SRF\\_0.45-0.8\\_G\\_scaffold219644\\_1\\_gene229127 & 99.191 & 618 &  5 & 0 & 7 & 624 & 1390 & 2007 & 0 & 1114 & 4225 & MicV-C & NA\\\\\n",
       "\t6 & KP734135.1 & TARA\\_067\\_SRF\\_0.45-0.8\\_G\\_scaffold219644\\_1\\_gene229127 & 99.065 & 642 &  6 & 0 & 1 & 642 & 1390 & 2031 & 0 & 1153 & 4226 & MicV-C & NA\\\\\n",
       "\t7 & KP734130.1 & TARA\\_067\\_SRF\\_0.45-0.8\\_G\\_scaffold219644\\_1\\_gene229127 & 97.782 & 496 & 10 & 1 & 1 & 495 & 1458 & 1953 & 0 &  854 & 4228 & MicV-C & NA\\\\\n",
       "\t8 & KP734133.1 & TARA\\_067\\_SRF\\_0.45-0.8\\_G\\_scaffold219644\\_1\\_gene229127 & 98.878 & 624 &  7 & 0 & 1 & 624 & 1384 & 2007 & 0 & 1114 & 4229 & MicV-C & NA\\\\\n",
       "\t9 & KP734131.1 & TARA\\_067\\_SRF\\_0.45-0.8\\_G\\_scaffold219644\\_1\\_gene229127 & 98.276 & 580 & 10 & 0 & 1 & 580 & 1378 & 1957 & 0 & 1016 & 4230 & MicV-C & NA\\\\\n",
       "\\end{tabular}\n"
      ],
      "text/markdown": [
       "\n",
       "A data.frame: 6 × 15\n",
       "\n",
       "| <!--/--> | query.acc.ver &lt;chr&gt; | subject.acc.ver &lt;chr&gt; | X..identity &lt;dbl&gt; | alignment.length &lt;int&gt; | mismatches &lt;int&gt; | gap.opens &lt;int&gt; | q.start &lt;int&gt; | q.end &lt;int&gt; | s.start &lt;int&gt; | s.end &lt;int&gt; | evalue &lt;dbl&gt; | bit.score &lt;int&gt; | strain.V &lt;chr&gt; | sp.V &lt;chr&gt; | phylotype &lt;chr&gt; |\n",
       "|---|---|---|---|---|---|---|---|---|---|---|---|---|---|---|---|\n",
       "| 4 | KP734132.1 | TARA_067_SRF_0.45-0.8_G_scaffold219644_1_gene229127 | 98.878 | 624 |  7 | 0 | 1 | 624 | 1384 | 2007 | 0 | 1114 | 4224 | MicV-C | NA |\n",
       "| 5 | KP734141.1 | TARA_067_SRF_0.45-0.8_G_scaffold219644_1_gene229127 | 99.191 | 618 |  5 | 0 | 7 | 624 | 1390 | 2007 | 0 | 1114 | 4225 | MicV-C | NA |\n",
       "| 6 | KP734135.1 | TARA_067_SRF_0.45-0.8_G_scaffold219644_1_gene229127 | 99.065 | 642 |  6 | 0 | 1 | 642 | 1390 | 2031 | 0 | 1153 | 4226 | MicV-C | NA |\n",
       "| 7 | KP734130.1 | TARA_067_SRF_0.45-0.8_G_scaffold219644_1_gene229127 | 97.782 | 496 | 10 | 1 | 1 | 495 | 1458 | 1953 | 0 |  854 | 4228 | MicV-C | NA |\n",
       "| 8 | KP734133.1 | TARA_067_SRF_0.45-0.8_G_scaffold219644_1_gene229127 | 98.878 | 624 |  7 | 0 | 1 | 624 | 1384 | 2007 | 0 | 1114 | 4229 | MicV-C | NA |\n",
       "| 9 | KP734131.1 | TARA_067_SRF_0.45-0.8_G_scaffold219644_1_gene229127 | 98.276 | 580 | 10 | 0 | 1 | 580 | 1378 | 1957 | 0 | 1016 | 4230 | MicV-C | NA |\n",
       "\n"
      ],
      "text/plain": [
       "  query.acc.ver subject.acc.ver                                     X..identity\n",
       "4 KP734132.1    TARA_067_SRF_0.45-0.8_G_scaffold219644_1_gene229127 98.878     \n",
       "5 KP734141.1    TARA_067_SRF_0.45-0.8_G_scaffold219644_1_gene229127 99.191     \n",
       "6 KP734135.1    TARA_067_SRF_0.45-0.8_G_scaffold219644_1_gene229127 99.065     \n",
       "7 KP734130.1    TARA_067_SRF_0.45-0.8_G_scaffold219644_1_gene229127 97.782     \n",
       "8 KP734133.1    TARA_067_SRF_0.45-0.8_G_scaffold219644_1_gene229127 98.878     \n",
       "9 KP734131.1    TARA_067_SRF_0.45-0.8_G_scaffold219644_1_gene229127 98.276     \n",
       "  alignment.length mismatches gap.opens q.start q.end s.start s.end evalue\n",
       "4 624               7         0         1       624   1384    2007  0     \n",
       "5 618               5         0         7       624   1390    2007  0     \n",
       "6 642               6         0         1       642   1390    2031  0     \n",
       "7 496              10         1         1       495   1458    1953  0     \n",
       "8 624               7         0         1       624   1384    2007  0     \n",
       "9 580              10         0         1       580   1378    1957  0     \n",
       "  bit.score strain.V sp.V   phylotype\n",
       "4 1114      4224     MicV-C NA       \n",
       "5 1114      4225     MicV-C NA       \n",
       "6 1153      4226     MicV-C NA       \n",
       "7  854      4228     MicV-C NA       \n",
       "8 1114      4229     MicV-C NA       \n",
       "9 1016      4230     MicV-C NA       "
      ]
     },
     "metadata": {},
     "output_type": "display_data"
    }
   ],
   "source": [
    "## Load viral \"OTU\" information datasets\n",
    "info.V <- read.csv(\"./data/Info_Virus_New2023.txt\", sep=\"\")\n",
    "head(info.V)"
   ]
  },
  {
   "cell_type": "code",
   "execution_count": 5,
   "id": "03d2f99f",
   "metadata": {},
   "outputs": [],
   "source": [
    "## Load virus groups frequency tables\n",
    "## Major Clades \n",
    "MpV.A <- read.csv(\"./data/df_MicV_A_merge_stdz.txt\", sep=\"\")\n",
    "com.A <- MpV.A[17:ncol(MpV.A)]\n",
    "totcom.A <- rowSums(com.A)\n",
    "\n",
    "MpV.C <- read.csv(\"./data/df_MicV_C_merge_stdz.txt\", sep=\"\")\n",
    "com.C <- MpV.C[17:ncol(MpV.C)]\n",
    "totcom.C <- rowSums(com.C)\n",
    "\n",
    "MpV.B <- read.csv(\"./data/df_MicV_B_merge_stdz.txt\", sep=\"\")\n",
    "com.B <- MpV.B[17:ncol(MpV.B)]\n",
    "totcom.B <- rowSums(com.B)\n",
    "\n",
    "MpV.Pol <- read.csv(\"./data/df_MicV_Pol_merge_stdz.txt\", sep=\"\")\n",
    "com.Pol <- MpV.Pol[17:ncol(MpV.Pol)]\n",
    "totcom.Pol <- rowSums(com.Pol)\n",
    "\n",
    "## Minor Clades\n",
    "MpV.A1 <- read.csv(\"./data/df_MicV_A1_merge_stdz.txt\", sep=\"\")\n",
    "com.A1 <- MpV.A1[17:ncol(MpV.A1)]\n",
    "totcom.A1 <- rowSums(com.A1)\n",
    "\n",
    "MpV.A2 <- read.csv(\"./data/df_MicV_A2_merge_stdz.txt\", sep=\"\")\n",
    "com.A2 <- MpV.A2[17:ncol(MpV.A2)]\n",
    "totcom.A2 <- rowSums(com.A2)\n",
    "\n",
    "MpV.Pol1 <- read.csv(\"./data/df_MicV_Pol1_merge_stdz.txt\", sep=\"\")\n",
    "com.Pol1 <- MpV.Pol1[17:ncol(MpV.Pol1)]\n",
    "totcom.Pol1 <- rowSums(com.Pol1)\n",
    "\n",
    "MpV.Pol2 <- read.csv(\"./data/df_MicV_Pol2_merge_stdz.txt\", sep=\"\")\n",
    "com.Pol2 <- MpV.Pol2[17:ncol(MpV.Pol2)]\n",
    "totcom.Pol2 <- rowSums(com.Pol2)\n",
    "\n",
    "MpV.B1 <- read.csv(\"./data/df_MicV_B1_merge_stdz.txt\", sep=\"\")\n",
    "com.B1 <- MpV.B1[17:ncol(MpV.B1)]\n",
    "totcom.B1 <- rowSums(com.B1)\n",
    "\n",
    "MpV.B2 <- read.csv(\"./data/df_MicV_B2_merge_stdz.txt\", sep=\"\")\n",
    "com.B2 <- MpV.B2[17:ncol(MpV.B2)]\n",
    "totcom.B2 <- rowSums(com.B2)"
   ]
  },
  {
   "cell_type": "markdown",
   "id": "60114b3e",
   "metadata": {},
   "source": [
    "## Model \n",
    "from Demory et al. Ecology Letters 2021"
   ]
  },
  {
   "cell_type": "code",
   "execution_count": 9,
   "id": "76b795ef",
   "metadata": {},
   "outputs": [],
   "source": [
    "## Parameters\n",
    "paraA <- c(1.1748E10,6757.8,1.1964E25,17354,1E9,1.037E-6,320.38,0.057292,\n",
    "           1.0137E22,13120,1.6265E22,13261,17.182,292.12,4.291,1.1388E19,\n",
    "           0.01508,1.5207,1E-8)\n",
    "  \n",
    "paraB <- c(1e+10,6745.1,1e+25,17335,1000000000,1.2e-06,313.15,0.15195,1.0138e+22,\n",
    "           13119,1.6256e+22,13264,17,297.86,8.937,1.3859e+19,1.405964e+16,\n",
    "           11542.69,1.9217e-08)\n",
    "\n",
    "paraC <- c(9372875957,6812.273,8.533459e+24,17374.71,11000000,1.030034e-06,333.4005,\n",
    "           0.1471658,1.015882e+22,13120.93,1.64207e+22,13264.53,118.6584,301.1302,\n",
    "           3.0023,5.181019e+18,0.0608461,4.000002,8.981109e-10)\n",
    "\n",
    "paraPol <- c(1E11,7260.7,1.998E24,16296,1E10,2.6279e-07,291.83,\n",
    "             0.1,2.0983E09,5705.3,3.0485E24,16007,99.534,280.5,\n",
    "             9.2464,5.0254E22,0.49447,0.47675,1.489e-10)\n",
    "\n",
    "Tdrivenf <- function(T,Chla,para){\n",
    "  \n",
    "  TK = T+273.15\n",
    "  nChla=Chla/max(Chla,na.rm = TRUE)\n",
    "  \n",
    "  # --- Growth and basal mortality ---\n",
    "  A1 = para[1]\n",
    "  E1 = para[2]\n",
    "  A2 = para[3]\n",
    "  E2 = para[4]\n",
    "  f = A1*exp(-E1/TK)\n",
    "  g = A2*exp(-E2/TK)\n",
    "  mu = f\n",
    "  psi = g\n",
    "  mu_net = f-g\n",
    "  mu_net[mu_net<0]=0\n",
    "  # --- Carrying capacity ---\n",
    "  K = para[5]\n",
    "  nK = nChla*K\n",
    "  \n",
    "  # --- Viral adsorption ---\n",
    "  phiK = para[6]\n",
    "  Tphi = para[7]\n",
    "  phir = para[8]\n",
    "  numA = phiK\n",
    "  denA = phiK+exp(-phir*(TK-Tphi))\n",
    "  phi = numA/denA\n",
    "  \n",
    "  ## --- Lysis rate ---\n",
    "  s1 = para[9]\n",
    "  d1 = para[10]\n",
    "  s2 = para[11]\n",
    "  d2 = para[12]\n",
    "  f = s1*exp(-d1/TK)\n",
    "  g = s2*exp(-d2/TK)\n",
    "  eta = f - g\n",
    "  eta[eta<0] = 0\n",
    "  \n",
    "  ## --- Burst size ---\n",
    "  b1 = para[13]\n",
    "  beta = b1*(f-g)\n",
    "  beta[beta<0] = 0\n",
    "  \n",
    "  ## --- production of noninfectious viruses\n",
    "  epsK = 1\n",
    "  Teps = para[14]\n",
    "  epsr = para[15]\n",
    "  epsilon = epsK/(1+exp((-d2/TK)*(1-(Teps/TK)))^epsr)\n",
    "  \n",
    "  ## --- viral lost of infectivity ---\n",
    "  sig1 = para[16]\n",
    "  sigma = sig1*exp(-d2/TK)\n",
    "  \n",
    "  ## --- viral degradation ---\n",
    "  #delta parameters\n",
    "  del1 = para[17]\n",
    "  del2 = para[18]\n",
    "  delta = del1*exp(-del2/TK)\n",
    "  \n",
    "  # --- viral aggregation ---\n",
    "  omega = para[19]\n",
    "  \n",
    "  # --- Seq ---\n",
    "  Seq = (1-(psi/mu_net))*K\n",
    "  Seq[Seq<0]=0\n",
    "  nSeq = (1-(psi/mu_net))*nK\n",
    "  nSeq[nSeq<0]=0\n",
    "  \n",
    "  # --- R0_Ecol ---\n",
    "  R0 = ((1-epsilon)*beta*eta*phi*Seq)/((sigma+phi*Seq)*(eta+psi))\n",
    "  nR0 = ((1-epsilon)*beta*eta*phi*nSeq)/((sigma+phi*nSeq)*(eta+psi))\n",
    "  \n",
    "  # --- Vir_prod ---\n",
    "  Ninf = phi*Seq\n",
    "  nNinf = phi*nSeq\n",
    "  probaL = eta/(eta+psi)\n",
    "  Vprod = beta*probaL*Ninf\n",
    "  nVprod = beta*probaL*nNinf\n",
    "  probA = phi*Seq/(phi*Seq+delta)\n",
    "\n",
    "  R0[R0<=1]=0;\n",
    "  R0[R0>1]=1;\n",
    "  fT = data.frame(\"Temperature\"=T,\"probaL\"=probaL,\"R0\"=R0,\n",
    "                  \"probaA\"=probA)\n",
    "  \n",
    "  return(fT)\n",
    "}"
   ]
  },
  {
   "cell_type": "markdown",
   "id": "8ed2c0ae",
   "metadata": {},
   "source": [
    "## ROC major grps"
   ]
  },
  {
   "cell_type": "code",
   "execution_count": 10,
   "id": "64d31411-5451-47f7-be7e-fb4df5bdd0af",
   "metadata": {},
   "outputs": [
    {
     "name": "stderr",
     "output_type": "stream",
     "text": [
      "Setting direction: controls > cases\n",
      "\n",
      "Setting direction: controls > cases\n",
      "\n",
      "Setting direction: controls > cases\n",
      "\n"
     ]
    },
    {
     "name": "stdout",
     "output_type": "stream",
     "text": [
      "  parameters Accuracy Precision   Recall F1.Score      AUC\n",
      "1     probaL 73.00885  48.91304 76.27119 59.60265 77.67685\n",
      "2         R0 72.12389  47.77778 72.88136 57.71812 72.36882\n",
      "3     probaA 74.77876  52.38095 37.28814 43.56436 57.30742\n"
     ]
    },
    {
     "name": "stderr",
     "output_type": "stream",
     "text": [
      "Setting direction: controls > cases\n",
      "\n",
      "Setting direction: controls > cases\n",
      "\n"
     ]
    }
   ],
   "source": [
    "### GROUPE A\n",
    "\n",
    "# Presence table\n",
    "MpV.A.Presence <- rep('NA',length(totcom.A))\n",
    "MpV.A.Presence[totcom.A > 0.0]=1\n",
    "MpV.A.Presence[totcom.A <= 0.0]=0\n",
    "\n",
    "# ROC data\n",
    "mod <- Tdrivenf(MpV.A$Temperature,MpV.A$ChlorophyllA,paraA)\n",
    "MpV.Presence = MpV.A.Presence\n",
    "T<-MpV.A$Temperature\n",
    "\n",
    "# ROC\n",
    "ROC.STAT.A = data.frame()\n",
    "for (x in 2:length(mod)) {\n",
    "  roc_obj <- roc(MpV.Presence,mod[,x],na.rm=TRUE,levels=c(1,0),percent=TRUE, ci=TRUE)\n",
    "  accuracy  = max(coords(roc_obj, x = \"best\", ret = \"accuracy\"))\n",
    "  precision = max(coords(roc_obj, x = \"best\", ret = \"precision\"))\n",
    "  recall    = max(coords(roc_obj, x = \"best\", ret = \"recall\"))\n",
    "  F1.Score  = (2*precision*recall)/(precision+recall)\n",
    "  F1.Score2 = 2/(1/precision + 1/recall)\n",
    "  AUC       = auc(roc_obj)[1]\n",
    "  stat = data.frame(\"parameters\"=colnames(mod)[x],\"Accuracy\"=accuracy,\"Precision\"=precision,\"Recall\"=recall,\"F1 Score\"=F1.Score,\"AUC\"=AUC)\n",
    "  ROC.STAT.A = rbind(ROC.STAT.A, stat)\n",
    "}\n",
    "print(ROC.STAT.A)\n",
    "# > 70% is good.\n",
    "# Notes: R0 here is binary (> or < to 1), then it is not relevant for the ROC analysis\n",
    "\n",
    "# Data for plot\n",
    "roc.obj.A.probaL <- roc(MpV.Presence,mod[,2],na.rm=TRUE,levels=c(1,0),percent=TRUE, ci=TRUE)\n",
    "roc.obj.A.probaA <- roc(MpV.Presence,mod[,4],na.rm=TRUE,levels=c(1,0),percent=TRUE, ci=TRUE)\n"
   ]
  },
  {
   "cell_type": "code",
   "execution_count": 11,
   "id": "4765672d-eac7-49d0-9074-3adf2a991f93",
   "metadata": {},
   "outputs": [
    {
     "name": "stderr",
     "output_type": "stream",
     "text": [
      "Setting direction: controls > cases\n",
      "\n",
      "Setting direction: controls < cases\n",
      "\n",
      "Setting direction: controls > cases\n",
      "\n"
     ]
    },
    {
     "name": "stdout",
     "output_type": "stream",
     "text": [
      "  parameters Accuracy Precision    Recall F1.Score      AUC\n",
      "1     probaL 95.13274  96.68874  96.05263 96.36964 98.02632\n",
      "2         R0 67.25664       NaN 100.00000      NaN 43.42105\n",
      "3     probaA 95.13274  96.68874  96.05263 96.36964 98.02632\n"
     ]
    },
    {
     "name": "stderr",
     "output_type": "stream",
     "text": [
      "Setting direction: controls > cases\n",
      "\n",
      "Setting direction: controls > cases\n",
      "\n"
     ]
    }
   ],
   "source": [
    "### GROUPE B\n",
    "\n",
    "# Presence table\n",
    "MpV.B.Presence <- rep('NA',length(totcom.B))\n",
    "MpV.B.Presence[totcom.B > 0.0]=1\n",
    "MpV.B.Presence[totcom.B <= 0.0]=0\n",
    "\n",
    "# ROC data\n",
    "mod <- Tdrivenf(MpV.B$Temperature,MpV.B$ChlorophyllA,paraB)\n",
    "MpV.Presence = MpV.B.Presence\n",
    "T<-MpV.B$Temperature\n",
    "\n",
    "# ROC\n",
    "ROC.STAT.B = data.frame()\n",
    "for (x in 2:length(mod)) {\n",
    "  roc_obj <- roc(MpV.Presence,mod[,x],na.rm=TRUE,levels=c(1,0),percent=TRUE, ci=TRUE)\n",
    "  accuracy  = max(coords(roc_obj, x = \"best\", ret = \"accuracy\"))\n",
    "  precision = max(coords(roc_obj, x = \"best\", ret = \"precision\"))\n",
    "  recall    = max(coords(roc_obj, x = \"best\", ret = \"recall\"))\n",
    "  F1.Score  = (2*precision*recall)/(precision+recall)\n",
    "  F1.Score2 = 2/(1/precision + 1/recall)\n",
    "  AUC       = auc(roc_obj)[1]\n",
    "  stat = data.frame(\"parameters\"=colnames(mod)[x],\"Accuracy\"=accuracy,\"Precision\"=precision,\"Recall\"=recall,\"F1 Score\"=F1.Score,\"AUC\"=AUC)\n",
    "  ROC.STAT.B = rbind(ROC.STAT.B, stat)\n",
    "}\n",
    "print(ROC.STAT.B)\n",
    "# > 95% is excelent\n",
    "\n",
    "# Data for plot\\\n",
    "roc.obj.B.probaL <- roc(MpV.Presence,mod[,2],na.rm=TRUE,levels=c(1,0),percent=TRUE, ci=TRUE)\n",
    "roc.obj.B.probaA <- roc(MpV.Presence,mod[,4],na.rm=TRUE,levels=c(1,0),percent=TRUE, ci=TRUE)\n"
   ]
  },
  {
   "cell_type": "code",
   "execution_count": 12,
   "id": "cc0d5c34-20a8-4db5-bccd-27d398000699",
   "metadata": {},
   "outputs": [
    {
     "name": "stderr",
     "output_type": "stream",
     "text": [
      "Setting direction: controls > cases\n",
      "\n",
      "Setting direction: controls < cases\n",
      "\n",
      "Setting direction: controls < cases\n",
      "\n"
     ]
    },
    {
     "name": "stdout",
     "output_type": "stream",
     "text": [
      "  parameters Accuracy Precision    Recall F1.Score      AUC\n",
      "1     probaL 50.44248 100.00000  48.14815 65.00000 68.77315\n",
      "2         R0 95.57522       NaN 100.00000      NaN 35.41667\n",
      "3     probaA 43.80531  97.84946  42.12963 58.89968 51.22685\n"
     ]
    },
    {
     "data": {
      "text/html": [
       "4.3859649122807"
      ],
      "text/latex": [
       "4.3859649122807"
      ],
      "text/markdown": [
       "4.3859649122807"
      ],
      "text/plain": [
       "[1] 4.385965"
      ]
     },
     "metadata": {},
     "output_type": "display_data"
    },
    {
     "data": {
      "text/html": [
       "228"
      ],
      "text/latex": [
       "228"
      ],
      "text/markdown": [
       "228"
      ],
      "text/plain": [
       "[1] 228"
      ]
     },
     "metadata": {},
     "output_type": "display_data"
    },
    {
     "name": "stderr",
     "output_type": "stream",
     "text": [
      "Setting direction: controls > cases\n",
      "\n",
      "Setting direction: controls < cases\n",
      "\n"
     ]
    }
   ],
   "source": [
    "### GROUPE C\n",
    "\n",
    "# Presence table\n",
    "MpV.C.Presence <- rep('NA',length(totcom.C))\n",
    "MpV.C.Presence[totcom.C > 0.0]=1\n",
    "MpV.C.Presence[totcom.C <= 0.0]=0\n",
    "\n",
    "# ROC data\n",
    "mod <- Tdrivenf(MpV.C$Temperature,MpV.C$ChlorophyllA,paraC)\n",
    "MpV.Presence = MpV.C.Presence\n",
    "T<-MpV.C$Temperature\n",
    "\n",
    "# ROC\n",
    "ROC.STAT.C = data.frame()\n",
    "for (x in 2:length(mod)) {\n",
    "  roc_obj <- roc(MpV.Presence,mod[,x],na.rm=TRUE,levels=c(1,0),percent=TRUE, ci=TRUE)\n",
    "  accuracy  = max(coords(roc_obj, x = \"best\", ret = \"accuracy\"))\n",
    "  precision = max(coords(roc_obj, x = \"best\", ret = \"precision\"))\n",
    "  recall    = max(coords(roc_obj, x = \"best\", ret = \"recall\"))\n",
    "  F1.Score  = (2*precision*recall)/(precision+recall)\n",
    "  F1.Score2 = 2/(1/precision + 1/recall)\n",
    "  AUC       = auc(roc_obj)[1]\n",
    "  stat = data.frame(\"parameters\"=colnames(mod)[x],\"Accuracy\"=accuracy,\"Precision\"=precision,\"Recall\"=recall,\"F1 Score\"=F1.Score,\"AUC\"=AUC)\n",
    "  ROC.STAT.C = rbind(ROC.STAT.C, stat)\n",
    "}\n",
    "print(ROC.STAT.C)\n",
    "# probaL at 69% is good but probaA not good. Here we have really few points that are positives in the data so it is not really a good dataset\n",
    "\n",
    "Per.of.Positive.TARA = (length(MpV.Presence[MpV.Presence==1])*100)/length(MpV.Presence)\n",
    "Per.of.Positive.TARA\n",
    "length(MpV.Presence)\n",
    "# On 228 samples we only have 4.4% of them where we found C viruses, that is about 10 stations.\n",
    "\n",
    "# Data for plot\n",
    "roc.obj.C.probaL <- roc(MpV.Presence,mod[,2],na.rm=TRUE,levels=c(1,0),percent=TRUE, ci=TRUE)\n",
    "roc.obj.C.probaA <- roc(MpV.Presence,mod[,4],na.rm=TRUE,levels=c(1,0),percent=TRUE, ci=TRUE)"
   ]
  },
  {
   "cell_type": "code",
   "execution_count": 13,
   "id": "8083c954-dbf8-4674-88d2-7f322b6c75e1",
   "metadata": {},
   "outputs": [
    {
     "name": "stderr",
     "output_type": "stream",
     "text": [
      "Setting direction: controls > cases\n",
      "\n",
      "Setting direction: controls > cases\n",
      "\n",
      "Setting direction: controls > cases\n",
      "\n"
     ]
    },
    {
     "name": "stdout",
     "output_type": "stream",
     "text": [
      "  parameters Accuracy Precision   Recall F1.Score      AUC\n",
      "1     probaL 91.15044  93.58974 93.58974 93.58974 94.13462\n",
      "2         R0 91.59292  91.01796 97.43590 94.11765 88.00366\n",
      "3     probaA 90.70796  93.54839 92.94872 93.24759 88.32418\n"
     ]
    },
    {
     "name": "stderr",
     "output_type": "stream",
     "text": [
      "Setting direction: controls > cases\n",
      "\n",
      "Setting direction: controls > cases\n",
      "\n"
     ]
    }
   ],
   "source": [
    "### GROUPE Pol\n",
    "\n",
    "# Presence table\n",
    "MpV.Pol.Presence <- rep('NA',length(totcom.Pol))\n",
    "MpV.Pol.Presence[totcom.Pol > 0.0]=1\n",
    "MpV.Pol.Presence[totcom.Pol <= 0.0]=0\n",
    "\n",
    "# ROC data\n",
    "mod <- Tdrivenf(MpV.Pol$Temperature,MpV.Pol$ChlorophyllA,paraPol)\n",
    "MpV.Presence = MpV.Pol.Presence\n",
    "T<-MpV.Pol$Temperature\n",
    "\n",
    "# ROC\n",
    "ROC.STAT.Pol = data.frame()\n",
    "for (x in 2:length(mod)) {\n",
    "  roc_obj <- roc(MpV.Presence,mod[,x],na.rm=TRUE,levels=c(1,0),percent=TRUE, ci=TRUE)\n",
    "  accuracy  = max(coords(roc_obj, x = \"best\", ret = \"accuracy\"))\n",
    "  precision = max(coords(roc_obj, x = \"best\", ret = \"precision\"))\n",
    "  recall    = max(coords(roc_obj, x = \"best\", ret = \"recall\"))\n",
    "  F1.Score  = (2*precision*recall)/(precision+recall)\n",
    "  F1.Score2 = 2/(1/precision + 1/recall)\n",
    "  AUC       = auc(roc_obj)[1]\n",
    "  stat = data.frame(\"parameters\"=colnames(mod)[x],\"Accuracy\"=accuracy,\"Precision\"=precision,\"Recall\"=recall,\"F1 Score\"=F1.Score,\"AUC\"=AUC)\n",
    "  ROC.STAT.Pol = rbind(ROC.STAT.Pol, stat)\n",
    "}\n",
    "print(ROC.STAT.Pol)\n",
    "# > 85% is excelent\n",
    "\n",
    "# Data for plot\n",
    "roc.obj.Pol.probaL <- roc(MpV.Presence,mod[,2],na.rm=TRUE,levels=c(1,0),percent=TRUE, ci=TRUE)\n",
    "roc.obj.Pol.probaA <- roc(MpV.Presence,mod[,4],na.rm=TRUE,levels=c(1,0),percent=TRUE, ci=TRUE)\n"
   ]
  },
  {
   "cell_type": "markdown",
   "id": "5ff47b53-4cc5-47a9-b1b3-9de419955703",
   "metadata": {},
   "source": [
    "### PLOT ROC CURVES"
   ]
  },
  {
   "cell_type": "code",
   "execution_count": 14,
   "id": "674d1c27-6619-4aca-a41d-4b8d7be60bb4",
   "metadata": {},
   "outputs": [
    {
     "data": {
      "text/html": [
       "<strong>pdf:</strong> 2"
      ],
      "text/latex": [
       "\\textbf{pdf:} 2"
      ],
      "text/markdown": [
       "**pdf:** 2"
      ],
      "text/plain": [
       "pdf \n",
       "  2 "
      ]
     },
     "metadata": {},
     "output_type": "display_data"
    },
    {
     "data": {
      "text/html": [
       "<strong>pdf:</strong> 2"
      ],
      "text/latex": [
       "\\textbf{pdf:} 2"
      ],
      "text/markdown": [
       "**pdf:** 2"
      ],
      "text/plain": [
       "pdf \n",
       "  2 "
      ]
     },
     "metadata": {},
     "output_type": "display_data"
    },
    {
     "data": {
      "text/html": [
       "<strong>pdf:</strong> 2"
      ],
      "text/latex": [
       "\\textbf{pdf:} 2"
      ],
      "text/markdown": [
       "**pdf:** 2"
      ],
      "text/plain": [
       "pdf \n",
       "  2 "
      ]
     },
     "metadata": {},
     "output_type": "display_data"
    },
    {
     "data": {
      "text/html": [
       "<strong>pdf:</strong> 2"
      ],
      "text/latex": [
       "\\textbf{pdf:} 2"
      ],
      "text/markdown": [
       "**pdf:** 2"
      ],
      "text/plain": [
       "pdf \n",
       "  2 "
      ]
     },
     "metadata": {},
     "output_type": "display_data"
    }
   ],
   "source": [
    "## Plot ROC curve\n",
    "\n",
    "# Plot A\n",
    "pdf(file=\"./figures/figure4_roc_A.pdf\",\n",
    "    width = 3, height = 3 , # Width and height in inches\n",
    "    bg = \"white\",            # Background color\n",
    "    colormodel = \"rgb\",      # Color model (cmyk is required for most publications)\n",
    "    paper = \"USr\")           # Paper size\n",
    "\n",
    "plot(roc.obj.A.probaL,'col'=\"#F8766D\",lwd=3, lty=1,cex.axis=1,cex.lab=1,main=\"MpV A\")\n",
    "lines(roc.obj.A.probaA,'col'=\"#C49A00\",lwd=3, lty=2)\n",
    "abline(h = 70, v = 70, col=\"black\", lwd=3, lty=3)\n",
    "legend(60, 40, legend=c(\"Lysis\", \"Infection\"),col=c(\"#F8766D\", \"#C49A00\"), lw=2.2, lty=1:2, cex=0.7,box.lty=0,text.font=1)\n",
    "\n",
    "dev.off()\n",
    "\n",
    "# Plot B\n",
    "pdf(file=\"./figures/figure4_roc_B.pdf\",\n",
    "    width = 3, height = 3 , # Width and height in inches\n",
    "    bg = \"white\",            # Background color\n",
    "    colormodel = \"rgb\",      # Color model (cmyk is required for most publications)\n",
    "    paper = \"USr\")           # Paper size\n",
    "\n",
    "plot(roc.obj.B.probaL,'col'=\"#53B400\",lwd=3, lty=1,cex.axis=1,cex.lab=1,main=\"MpV B\")\n",
    "lines(roc.obj.B.probaA,'col'=\"#00C094\",lwd=3, lty=2)\n",
    "abline(h = 70, v = 70, col=\"black\", lwd=3, lty=3)\n",
    "legend(60, 40, legend=c(\"Lysis\", \"Infection\"),col=c(\"#53B400\", \"#00C094\"), lw=2.2, lty=1:2, cex=0.7,box.lty=0,text.font=1)\n",
    "\n",
    "dev.off()\n",
    "\n",
    "# Plot C\n",
    "pdf(file=\"./figures/figure4_roc_C.pdf\",\n",
    "    width = 3, height = 3 , # Width and height in inches\n",
    "    bg = \"white\",            # Background color\n",
    "    colormodel = \"rgb\",      # Color model (cmyk is required for most publications)\n",
    "    paper = \"USr\")           # Paper size\n",
    "\n",
    "plot(roc.obj.C.probaL,'col'=\"#00B6EB\",lwd=3, lty=1,cex.axis=1,cex.lab=1,main=\"MpV C\")\n",
    "lines(roc.obj.C.probaA,'col'=\"#00B6EB\",lwd=3, lty=2)\n",
    "abline(h = 70, v = 70, col=\"black\", lwd=3, lty=3)\n",
    "legend(60, 40, legend=c(\"Lysis\", \"Infection\"),col=c(\"#00B6EB\", \"#00B6EB\"), lw=2.2, lty=1:2, cex=0.7,box.lty=0,text.font=1)\n",
    "\n",
    "dev.off()\n",
    "\n",
    "# Plot Pol\n",
    "pdf(file=\"./figures/figure4_roc_Pol.pdf\",\n",
    "    width = 3, height = 3 , # Width and height in inches\n",
    "    bg = \"white\",            # Background color\n",
    "    colormodel = \"rgb\",      # Color model (cmyk is required for most publications)\n",
    "    paper = \"USr\")           # Paper size\n",
    "\n",
    "plot(roc.obj.Pol.probaL,'col'=\"#A58AFF\",lwd=3, lty=1,cex.axis=1,cex.lab=1,,main=\"MpV Pol\")\n",
    "lines(roc.obj.Pol.probaA,'col'=\"#FB61D7\",lwd=3, lty=2)\n",
    "abline(h = 70, v = 70, col=\"black\", lwd=3, lty=3)\n",
    "legend(60, 40, legend=c(\"Lysis\", \"Infection\"),col=c(\"#A58AFF\", \"#FB61D7\"), lw=2.2, lty=1:2, cex=0.7,box.lty=0,text.font=1)\n",
    "\n",
    "dev.off()\n"
   ]
  },
  {
   "cell_type": "markdown",
   "id": "e9e92b9f-a78f-4085-90d3-4f6da8ebef2e",
   "metadata": {},
   "source": [
    "### PLOT STAT TABLES"
   ]
  },
  {
   "cell_type": "code",
   "execution_count": 15,
   "id": "075704de-7651-42db-a268-6c386df817e4",
   "metadata": {},
   "outputs": [
    {
     "data": {
      "text/html": [
       "<strong>pdf:</strong> 2"
      ],
      "text/latex": [
       "\\textbf{pdf:} 2"
      ],
      "text/markdown": [
       "**pdf:** 2"
      ],
      "text/plain": [
       "pdf \n",
       "  2 "
      ]
     },
     "metadata": {},
     "output_type": "display_data"
    }
   ],
   "source": [
    "### PLOT TABLES FOR STATS\n",
    "library(gtable)\n",
    "\n",
    "# MpV A\n",
    "ROC.plot.A <- ROC.STAT.A[-2,]\n",
    "ROC.plot.A$parameters[1] <- \"Lysis\"\n",
    "ROC.plot.A$parameters[2] <- \"Infection\"\n",
    "ROC.plot.A[,2:6] <- round(ROC.plot.A[,2:6],2)\n",
    "colnames(ROC.plot.A)[1] <- \"Probability\"\n",
    "\n",
    "tt_A <- ttheme_minimal(\n",
    "  core=list(bg_params = list(fill = c(\"#F8766D\",\"#C49A00\"),alpha=0.4, col=NA,rows = NULL),\n",
    "            fg_params=list(fontface=2)),\n",
    "  colhead=list(fg_params=list(col=\"black\", fontface=4L)),\n",
    "  rowhead=list(fg_params=list(col=\"orange\", fontface=3L)))\n",
    "\n",
    "# MpV B\n",
    "ROC.plot.B <- ROC.STAT.B[-2,]\n",
    "ROC.plot.B$parameters[1] <- \"Lysis\"\n",
    "ROC.plot.B$parameters[2] <- \"Infection\"\n",
    "ROC.plot.B[,2:6] <- round(ROC.plot.B[,2:6],2)\n",
    "colnames(ROC.plot.B)[1] <- \"Probability\"\n",
    "\n",
    "tt_B <- ttheme_minimal(\n",
    "  core=list(bg_params = list(fill = c(\"#53B400\",\"#00C094\"),alpha=0.4, col=NA,rows = NULL),\n",
    "            fg_params=list(fontface=2)),\n",
    "  colhead=list(fg_params=list(col=\"black\", fontface=4L)),\n",
    "  rowhead=list(fg_params=list(col=\"orange\", fontface=3L)))\n",
    "\n",
    "\n",
    "# MpV C\n",
    "ROC.plot.C <- ROC.STAT.C[-2,]\n",
    "ROC.plot.C$parameters[1] <- \"Lysis\"\n",
    "ROC.plot.C$parameters[2] <- \"Infection\"\n",
    "ROC.plot.C[,2:6] <- round(ROC.plot.C[,2:6],2)\n",
    "colnames(ROC.plot.C)[1] <- \"Probability\"\n",
    "\n",
    "tt_C <- ttheme_minimal(\n",
    "  core=list(bg_params = list(fill = c(\"#00B6EB\",\"#00759c\"),alpha=0.4, col=NA,rows = NULL),\n",
    "            fg_params=list(fontface=2)),\n",
    "  colhead=list(fg_params=list(col=\"black\", fontface=4L)),\n",
    "  rowhead=list(fg_params=list(col=\"orange\", fontface=3L)))\n",
    "\n",
    "# MpV POL\n",
    "ROC.plot.Pol <- ROC.STAT.Pol[-2,]\n",
    "ROC.plot.Pol$parameters[1] <- \"Lysis\"\n",
    "ROC.plot.Pol$parameters[2] <- \"Infection\"\n",
    "ROC.plot.Pol[,2:6] <- round(ROC.plot.Pol[,2:6],2)\n",
    "colnames(ROC.plot.Pol)[1] <- \"Probability\"\n",
    "\n",
    "tt_Pol <- ttheme_minimal(\n",
    "  core=list(bg_params = list(fill = c(\"#A58AFF\",\"#FB61D7\"),alpha=0.4, col=NA,rows = NULL),\n",
    "            fg_params=list(fontface=2)),\n",
    "  colhead=list(fg_params=list(col=\"black\", fontface=4L)),\n",
    "  rowhead=list(fg_params=list(col=\"orange\", fontface=3L)))\n",
    "\n",
    "pdf(file=\"./figures/figure4_roc_table.pdf\",\n",
    "    width = 5, height = 5, # Width and height in inches\n",
    "    bg = \"white\",            # Background color\n",
    "    colormodel = \"rgb\",      # Color model (cmyk is required for most publications)\n",
    "    paper = \"USr\")           # Paper size\n",
    "\n",
    "grid.arrange(\n",
    "  tableGrob(ROC.plot.A, theme=tt_A, rows = NULL),\n",
    "  tableGrob(ROC.plot.B, theme=tt_B, rows = NULL),\n",
    "  tableGrob(ROC.plot.C, theme=tt_C, rows = NULL),\n",
    "  tableGrob(ROC.plot.Pol, theme=tt_Pol, rows = NULL),\n",
    "  nrow=4)\n",
    "\n",
    "dev.off()"
   ]
  },
  {
   "cell_type": "markdown",
   "id": "3edc1909-7de8-4902-89bd-b573646cd774",
   "metadata": {},
   "source": [
    "### PLOT LOGISTIC CURVES"
   ]
  },
  {
   "cell_type": "code",
   "execution_count": 16,
   "id": "a44fb00e-0adf-457d-8c52-3173d0885f95",
   "metadata": {},
   "outputs": [
    {
     "data": {
      "text/plain": [
       "   Min. 1st Qu.  Median    Mean 3rd Qu.    Max. \n",
       " 0.8086  0.8528  0.9019  0.8996  0.9488  0.9858 "
      ]
     },
     "metadata": {},
     "output_type": "display_data"
    }
   ],
   "source": [
    "### Threshold\n",
    "pL.thres.A = coords(roc.obj.A.probaL, x = \"best\", ret = \"threshold\")\n",
    "pL.thres.B = coords(roc.obj.B.probaL, x = \"best\", ret = \"threshold\")\n",
    "pL.thres.C = coords(roc.obj.C.probaL, x = \"best\", ret = \"threshold\")\n",
    "pL.thres.Pol = coords(roc.obj.Pol.probaL, x = \"best\", ret = \"threshold\")\n",
    "\n",
    "test = as.numeric(c(pL.thres.A,pL.thres.B,pL.thres.C,pL.thres.Pol))\n",
    "summary(test)"
   ]
  },
  {
   "cell_type": "code",
   "execution_count": 18,
   "id": "9ff6bea7-9f72-48e2-b3c4-a13cfa4f3072",
   "metadata": {},
   "outputs": [
    {
     "name": "stderr",
     "output_type": "stream",
     "text": [
      "Warning message in max(Chla, na.rm = TRUE):\n",
      "“aucun argument pour max ; -Inf est renvoyé”\n"
     ]
    },
    {
     "data": {
      "text/html": [
       "23.1"
      ],
      "text/latex": [
       "23.1"
      ],
      "text/markdown": [
       "23.1"
      ],
      "text/plain": [
       "[1] 23.1"
      ]
     },
     "metadata": {},
     "output_type": "display_data"
    },
    {
     "data": {
      "text/html": [
       "<strong>pdf:</strong> 2"
      ],
      "text/latex": [
       "\\textbf{pdf:} 2"
      ],
      "text/markdown": [
       "**pdf:** 2"
      ],
      "text/plain": [
       "pdf \n",
       "  2 "
      ]
     },
     "metadata": {},
     "output_type": "display_data"
    }
   ],
   "source": [
    "## MpV.A\n",
    "thre.A = coords(roc.obj.A.probaL, ret = c(\"threshold\",\"sensitivity\",\"specificity\"))\n",
    "thre.A = thre.A[thre.A$sensitivity >= 70,]\n",
    "thre.A = thre.A[thre.A$specificity >= 70,]\n",
    "\n",
    "TT = seq(-2,40,0.1);\n",
    "modTT.A = Tdrivenf(TT,NaN,paraA)\n",
    "pL.thres = max(coords(roc.obj.A.probaL, x = \"best\", ret = \"threshold\"))\n",
    "TT.pL.thres = TT[round(modTT.A$probaL,2)==round(pL.thres,2)]\n",
    "ci.up = min(TT[modTT.A$probaL*100 <= 100*round(thre.A[1,1],2)])\n",
    "ci.low = min(TT[modTT.A$probaL*100 <= 100*round(thre.A[nrow(thre.A),1],2)])\n",
    "\n",
    "\n",
    "pdf(file=\"./figures/figure5_ROC_thresh_A.pdf\",\n",
    "    width = 5, height = 5, # Width and height in inches\n",
    "    bg = \"white\",            # Background color\n",
    "    colormodel = \"rgb\",      # Color model (cmyk is required for most publications)\n",
    "    paper = \"USr\")           # Paper size\n",
    "\n",
    "# plot \n",
    "plot(T,MpV.A.Presence,pch=20,cex.axis=1.5,cex.lab=1.5,xlab=\"Temperature (C)\",ylab=\"Probability\",xlim=c(0,35))\n",
    "lines(TT,modTT.A$probaL,'col'=\"#F8766D\",lwd=3, lty=1)\n",
    "abline(v = TT.pL.thres, col=\"#F8766D\", lwd=3, lty=3)\n",
    "#abline(v = min(TT[modTT.A$probaL*100 <= round(89.96,2)]), col=\"#F8766D\", lwd=3, lty=4)\n",
    "abline(v = max(TT[modTT.A$R0==1]), col=\"black\", lwd=3, lty=3)\n",
    "points(T,MpV.A.Presence,pch=20,cex=1.5)\n",
    "legend(0, 0.5, legend=c(\"Data\",\"Lysis\",\"Thres. lysis\",\"R0\"),col=c(\"black\",\"#F8766D\",\"#F8766D\",\"black\"),\n",
    "       pch=c(20,-1,-1,-1),lw=c(0,3,3,3),lty=c(0,1,2,2), cex=1.2,box.lty=0,text.font=1,bg=\"transparent\")\n",
    "text(TT.pL.thres-1.5,0.6,\"T = 23.1\",srt=90,cex=1.2,col=\"#F8766D\")\n",
    "text(max(TT[modTT.A$R0==1])+1.5,0.85,\"T = 23.5\",srt=90,cex=1.2,col=\"black\")\n",
    "rect(xleft = ci.low, xright = ci.up, ybottom = -1, ytop = 1.5, border = NA, col = adjustcolor(\"#F8766D\", alpha = 0.2))\n",
    "\n",
    "TT.pL.thres\n",
    "dev.off()"
   ]
  },
  {
   "cell_type": "code",
   "execution_count": 19,
   "id": "73c85edc-89e6-419d-aea2-6a6db0b68043",
   "metadata": {},
   "outputs": [
    {
     "name": "stderr",
     "output_type": "stream",
     "text": [
      "Warning message in max(Chla, na.rm = TRUE):\n",
      "“aucun argument pour max ; -Inf est renvoyé”\n"
     ]
    },
    {
     "data": {
      "text/html": [
       "15.1"
      ],
      "text/latex": [
       "15.1"
      ],
      "text/markdown": [
       "15.1"
      ],
      "text/plain": [
       "[1] 15.1"
      ]
     },
     "metadata": {},
     "output_type": "display_data"
    },
    {
     "data": {
      "text/html": [
       "<strong>pdf:</strong> 2"
      ],
      "text/latex": [
       "\\textbf{pdf:} 2"
      ],
      "text/markdown": [
       "**pdf:** 2"
      ],
      "text/plain": [
       "pdf \n",
       "  2 "
      ]
     },
     "metadata": {},
     "output_type": "display_data"
    }
   ],
   "source": [
    "## MpV.B\n",
    "thre.B = coords(roc.obj.B.probaL, ret = c(\"threshold\",\"sensitivity\",\"specificity\"))\n",
    "thre.B = thre.B[thre.B$sensitivity >= 80,]\n",
    "thre.B = thre.B[thre.B$specificity >= 80,]\n",
    "\n",
    "TT = seq(-2,40,0.1);\n",
    "modTT.B = Tdrivenf(TT,NaN,paraB)\n",
    "pL.thres = max(coords(roc.obj.B.probaL, x = \"best\", ret = \"threshold\"))\n",
    "TT.pL.thres = TT[round(modTT.B$probaL,4)==round(pL.thres,4)]\n",
    "ci.up = min(TT[modTT.B$probaL*100 <= 100*round(thre.B[1,1],2)])\n",
    "ci.low = min(TT[modTT.B$probaL*100 <= 100*round(thre.B[nrow(thre.B),1],2)])\n",
    "\n",
    "pdf(file=\"./figures/figure5_ROC_thresh_B.pdf\",\n",
    "    width = 5, height = 5, # Width and height in inches\n",
    "    bg = \"white\",            # Background color\n",
    "    colormodel = \"rgb\",      # Color model (cmyk is required for most publications)\n",
    "    paper = \"USr\")           # Paper size\n",
    "\n",
    "# plot\n",
    "plot(T,MpV.B.Presence,pch=20,cex.axis=1.5,cex.lab=1.5,main=\"MpV B\",xlab=\"Temperature (C)\",ylab=\"Probability\",xlim=c(0,35))\n",
    "lines(TT,modTT.B$probaL,'col'=\"#53B400\",lwd=3, lty=1)\n",
    "abline(v = TT.pL.thres, col=\"#53B400\", lwd=3, lty=3)\n",
    "#abline(v = min(TT[modTT.B$probaL*100 <= round(89.96,2)]), col=\"#53B400\", lwd=3, lty=4)\n",
    "abline(v = max(TT[modTT.B$R0==1]), col=\"black\", lwd=3, lty=3)\n",
    "points(T,MpV.B.Presence,pch=20,cex=1.5)\n",
    "legend(0, 0.5, legend=c(\"Data\",\"Lysis\",\"Thres. lysis\",\"R0\"),col=c(\"black\",\"#53B400\",\"#53B400\",\"black\"),\n",
    "       pch=c(20,-1,-1,-1),lw=c(0,3,3,3),lty=c(0,1,2,2), cex=1.2,box.lty=0,text.font=1,bg=\"transparent\")\n",
    "text(TT.pL.thres-1.5,0.6,\"T = 15.1\",srt=90,cex=1.2,col=\"#53B400\")\n",
    "text(max(TT[modTT.B$R0==1])-1.5,0.6,\"T = 27.4\",srt=90,cex=1.2,col=\"black\")\n",
    "rect(xleft = ci.low, xright = ci.up, ybottom = -1, ytop = 1.5, border = NA, col = adjustcolor(\"#53B400\", alpha = 0.2))\n",
    "#roc.obj.B.probaL$ci\n",
    "\n",
    "TT.pL.thres\n",
    "#max(TT[modTT.B$R0==1])\n",
    "\n",
    "dev.off()"
   ]
  },
  {
   "cell_type": "code",
   "execution_count": 20,
   "id": "7a4f4cab-12b9-4aa0-b4cc-72b9bd7e55f6",
   "metadata": {},
   "outputs": [
    {
     "name": "stderr",
     "output_type": "stream",
     "text": [
      "Warning message in max(Chla, na.rm = TRUE):\n",
      "“aucun argument pour max ; -Inf est renvoyé”\n"
     ]
    },
    {
     "data": {
      "text/html": [
       "21.2"
      ],
      "text/latex": [
       "21.2"
      ],
      "text/markdown": [
       "21.2"
      ],
      "text/plain": [
       "[1] 21.2"
      ]
     },
     "metadata": {},
     "output_type": "display_data"
    },
    {
     "data": {
      "text/html": [
       "<strong>pdf:</strong> 2"
      ],
      "text/latex": [
       "\\textbf{pdf:} 2"
      ],
      "text/markdown": [
       "**pdf:** 2"
      ],
      "text/plain": [
       "pdf \n",
       "  2 "
      ]
     },
     "metadata": {},
     "output_type": "display_data"
    }
   ],
   "source": [
    "## MpV.C\n",
    "thre.C = coords(roc.obj.C.probaL, ret = c(\"threshold\",\"sensitivity\",\"specificity\"))\n",
    "thre.C = thre.C[thre.C$sensitivity >= 50,]\n",
    "thre.C = thre.C[thre.C$specificity >= 60,]\n",
    "\n",
    "#thre.C\n",
    "\n",
    "TT = seq(-2,40,0.1);\n",
    "modTT.C = Tdrivenf(TT,NaN,paraC)\n",
    "pL.thres = max(coords(roc.obj.C.probaL, x = \"best\", ret = \"threshold\"))\n",
    "TT.pL.thres = min(TT[round(modTT.C$probaL,2)==round(pL.thres,2)])\n",
    "ci.up = min(TT[modTT.C$probaL*100 <= 100*round(thre.C[1,1],2)])\n",
    "ci.low = min(TT[modTT.C$probaL*100 <= 100*round(thre.C[nrow(thre.C),1],2)])\n",
    "\n",
    "#pL.thres\n",
    "\n",
    "pdf(file=\"./figures/figure5_ROC_thresh_C.pdf\",\n",
    "    width = 5, height = 5, # Width and height in inches\n",
    "    bg = \"white\",            # Background color\n",
    "    colormodel = \"rgb\",      # Color model (cmyk is required for most publications)\n",
    "    paper = \"USr\")           # Paper size\n",
    "\n",
    "# plot\n",
    "plot(T,MpV.C.Presence,pch=20,cex.axis=1.5,cex.lab=1.5,main=\"MpV B\",xlab=\"Temperature (C)\",ylab=\"Probability\",xlim=c(0,35))\n",
    "lines(TT,modTT.C$probaL,'col'=\"#00B6EB\",lwd=3, lty=1)\n",
    "abline(v = TT.pL.thres, col=\"#00B6EB\", lwd=3, lty=3)\n",
    "#abline(v = min(TT[modTT.C$probaL*100 <= round(89.96,2)]), col=\"#00B6EB\", lwd=3, lty=4)\n",
    "abline(v = max(TT[modTT.C$R0==1]), col=\"black\", lwd=3, lty=3)\n",
    "points(T,MpV.C.Presence,pch=20,cex=1.5)\n",
    "legend(0, 0.5, legend=c(\"Data\",\"Lysis\",\"Thres. lysis\",\"R0\"),col=c(\"black\",\"#00B6EB\",\"#00B6EB\",\"black\"),\n",
    "       pch=c(20,-1,-1,-1),lw=c(0,3,3,3),lty=c(0,1,2,2), cex=1.2,box.lty=0,text.font=1,bg=\"transparent\")\n",
    "text(TT.pL.thres-1,0.6,\"T = 21.2\",srt=90,cex=1.2,col=\"#00B6EB\")\n",
    "text(max(TT[modTT.C$R0==1])+1,0.85,\"T = 25.6\",srt=90,cex=1.2,col=\"black\")\n",
    "rect(xleft = ci.low, xright = ci.up, ybottom = -1, ytop = 1.5, border = NA, col = adjustcolor(\"#00B6EB\", alpha = 0.2))\n",
    "\n",
    "TT.pL.thres\n",
    "\n",
    "dev.off()"
   ]
  },
  {
   "cell_type": "code",
   "execution_count": 21,
   "id": "0145629b-bcf8-4b3f-92e4-f4a85cf1c8f2",
   "metadata": {},
   "outputs": [
    {
     "name": "stderr",
     "output_type": "stream",
     "text": [
      "Warning message in max(Chla, na.rm = TRUE):\n",
      "“aucun argument pour max ; -Inf est renvoyé”\n"
     ]
    },
    {
     "data": {
      "text/html": [
       "13.9"
      ],
      "text/latex": [
       "13.9"
      ],
      "text/markdown": [
       "13.9"
      ],
      "text/plain": [
       "[1] 13.9"
      ]
     },
     "metadata": {},
     "output_type": "display_data"
    },
    {
     "data": {
      "text/html": [
       "<strong>pdf:</strong> 2"
      ],
      "text/latex": [
       "\\textbf{pdf:} 2"
      ],
      "text/markdown": [
       "**pdf:** 2"
      ],
      "text/plain": [
       "pdf \n",
       "  2 "
      ]
     },
     "metadata": {},
     "output_type": "display_data"
    }
   ],
   "source": [
    "## MpV.Pol\n",
    "thre.Pol = coords(roc.obj.Pol.probaL, ret = c(\"threshold\",\"sensitivity\",\"specificity\"))\n",
    "thre.Pol = thre.Pol[thre.Pol$sensitivity >= 80,]\n",
    "thre.Pol = thre.Pol[thre.Pol$specificity >= 80,]\n",
    "\n",
    "TT = seq(-2,40,0.1);\n",
    "modTT.Pol = Tdrivenf(TT,NaN,paraPol)\n",
    "pL.thres = max(coords(roc.obj.Pol.probaL, x = \"best\", ret = \"threshold\"))\n",
    "TT.pL.thres = min(TT[round(modTT.Pol$probaL,2)==round(pL.thres,2)])\n",
    "ci.up = min(TT[modTT.Pol$probaL*100 <= 100*round(thre.Pol[1,1],2)])\n",
    "ci.low = min(TT[modTT.Pol$probaL*100 <= 100*round(thre.Pol[nrow(thre.Pol),1],2)])\n",
    "\n",
    "pdf(file=\"./figures/figure5_ROC_thresh_Pol.pdf\",\n",
    "    width = 5, height = 5, # Width and height in inches\n",
    "    bg = \"white\",            # Background color\n",
    "    colormodel = \"rgb\",      # Color model (cmyk is required for most publications)\n",
    "    paper = \"USr\")           # Paper size\n",
    "\n",
    "# plot\n",
    "plot(T,MpV.Pol.Presence,pch=20,cex.axis=1.5,cex.lab=1.5,xlab=\"Temperature (C)\",ylab=\"Probability\",xlim=c(0,35))\n",
    "lines(TT,modTT.Pol$probaL,'col'=\"#A58AFF\",lwd=3, lty=1)\n",
    "abline(v = TT.pL.thres, col=\"#A58AFF\", lwd=3, lty=3)\n",
    "abline(v = max(TT[modTT.Pol$R0==1]), col=\"black\", lwd=3, lty=3)\n",
    "#abline(v = min(TT[modTT.Pol$probaL*100 <= round(89.96,2)]), col=\"#A58AFF\", lwd=3, lty=4)\n",
    "points(T,MpV.Pol.Presence,pch=20,cex=1.5)\n",
    "legend(19.75, 0.95, legend=c(\"Data\",\"Lysis\",\"Thres. lysis\",\"R0\"),col=c(\"black\",\"#A58AFF\",\"#A58AFF\",\"black\"),\n",
    "       pch=c(20,-1,-1,-1),lw=c(0,3,3,3),lty=c(0,1,2,2), cex=1.2,box.lty=0,text.font=1,bg=\"transparent\")\n",
    "text(TT.pL.thres-1,0.6,\"T = 13.9\",srt=90,cex=1.2,col=\"#A58AFF\")\n",
    "text(max(TT[modTT.Pol$R0==1])-1.5,0.6,\"T = 10.3\",srt=90,cex=1.2,col=\"black\")\n",
    "rect(xleft = ci.low, xright = ci.up, ybottom = -1, ytop = 1.5, border = NA, col = adjustcolor(\"#A58AFF\", alpha = 0.2))\n",
    "\n",
    "TT.pL.thres\n",
    "\n",
    "dev.off()"
   ]
  },
  {
   "cell_type": "markdown",
   "id": "a820e233-a6a2-4d0a-9af4-b1967cc79efa",
   "metadata": {},
   "source": [
    "### PLOT FREQUENCIES OF TRUE AND FALSE SAMPLES"
   ]
  },
  {
   "cell_type": "code",
   "execution_count": 32,
   "id": "a8bc3a08-80da-4ab7-96dd-e58ce3e9e1b7",
   "metadata": {},
   "outputs": [
    {
     "data": {
      "text/html": [
       "<strong>pdf:</strong> 2"
      ],
      "text/latex": [
       "\\textbf{pdf:} 2"
      ],
      "text/markdown": [
       "**pdf:** 2"
      ],
      "text/plain": [
       "pdf \n",
       "  2 "
      ]
     },
     "metadata": {},
     "output_type": "display_data"
    },
    {
     "data": {
      "text/html": [
       "226"
      ],
      "text/latex": [
       "226"
      ],
      "text/markdown": [
       "226"
      ],
      "text/plain": [
       "[1] 226"
      ]
     },
     "metadata": {},
     "output_type": "display_data"
    }
   ],
   "source": [
    "## MpV A\n",
    "matlab.A <- data.frame(\"lat\"=MpV.A$Latitude,\"lon\"=MpV.A$Longitude,\"T\"=MpV.A$Temperature,\"Presence\"=as.numeric(MpV.A.Presence))\n",
    "\n",
    "Tp.Pol = 23.1\n",
    "matlab.A$model[matlab.A$T <= Tp.Pol] = 1\n",
    "matlab.A$model[matlab.A$T > Tp.Pol] = 0\n",
    "\n",
    "matlab.A = na.omit(matlab.A)\n",
    "\n",
    "matlab.A$diff = matlab.A$model - matlab.A$Presence\n",
    "matlab.A$ROC[matlab.A$diff == -1] = \"FN\"\n",
    "matlab.A$ROC[matlab.A$diff == 1] = \"FP\"\n",
    "matlab.A$ROC[matlab.A$diff == 0 & matlab.A$Presence == 1] = \"TP\"\n",
    "matlab.A$ROC[matlab.A$diff == 0 & matlab.A$Presence == 0] = \"TN\"\n",
    "matlab.A$Prediction[matlab.A$diff == 0] = \"True\"\n",
    "matlab.A$Prediction[matlab.A$diff != 0] = \"False\"\n",
    "\n",
    "#matlab.A\n",
    "\n",
    "prop.A = data.frame(\"ROC\" = c(\"TP\",\"TN\",\"FP\",\"FN\"))\n",
    "prop.A$p[1] = 100*length(matlab.A$ROC[matlab.A$ROC==\"TP\"])/length(matlab.A$ROC)\n",
    "prop.A$p[2] = 100*length(matlab.A$ROC[matlab.A$ROC==\"TN\"])/length(matlab.A$ROC)\n",
    "prop.A$p[3] = 100*length(matlab.A$ROC[matlab.A$ROC==\"FP\"])/length(matlab.A$ROC)\n",
    "prop.A$p[4] = 100*length(matlab.A$ROC[matlab.A$ROC==\"FN\"])/length(matlab.A$ROC)\n",
    "# Add label position\n",
    "prop.A <- prop.A %>%\n",
    "  arrange(desc(ROC)) %>%\n",
    "  mutate(lab.ypos = cumsum(p) - 0.5*p)\n",
    "#prop.A\n",
    "\n",
    "#prop.A\n",
    "mycols <- c(\"#ffd966\", \"#f37736\", \"#0392cf\",\"#7bc043\")\n",
    "\n",
    "pdf(file=\"./figures/figure5_ROC_freq_A.pdf\",\n",
    "    width = 5, height = 5, # Width and height in inches\n",
    "    bg = \"white\",            # Background color\n",
    "    colormodel = \"rgb\",      # Color model (cmyk is required for most publications)\n",
    "    paper = \"USr\")           # Paper size\n",
    "\n",
    "ggplot(prop.A, aes(x = \"\", y = p, fill = ROC)) +\n",
    "  geom_bar(width = 1, stat = \"identity\", color = \"white\") +\n",
    "  coord_polar(\"y\", start = 0)+\n",
    "  geom_text(aes(y = lab.ypos, label = round(p,1)), color = \"black\",cex=10)+\n",
    "  scale_fill_manual(values = mycols) +\n",
    "  theme_void()\n",
    "\n",
    "write.csv(matlab.A, \"./data/matlab.A.csv\", row.names=FALSE)\n",
    "dev.off()\n",
    "\n",
    "length(matlab.A$ROC)"
   ]
  },
  {
   "cell_type": "code",
   "execution_count": 31,
   "id": "b0a30148-f3ce-47dd-816c-999e2506b9b2",
   "metadata": {},
   "outputs": [
    {
     "data": {
      "text/html": [
       "<strong>pdf:</strong> 2"
      ],
      "text/latex": [
       "\\textbf{pdf:} 2"
      ],
      "text/markdown": [
       "**pdf:** 2"
      ],
      "text/plain": [
       "pdf \n",
       "  2 "
      ]
     },
     "metadata": {},
     "output_type": "display_data"
    },
    {
     "data": {
      "text/html": [
       "226"
      ],
      "text/latex": [
       "226"
      ],
      "text/markdown": [
       "226"
      ],
      "text/plain": [
       "[1] 226"
      ]
     },
     "metadata": {},
     "output_type": "display_data"
    },
    {
     "data": {
      "text/html": [
       "74"
      ],
      "text/latex": [
       "74"
      ],
      "text/markdown": [
       "74"
      ],
      "text/plain": [
       "[1] 74"
      ]
     },
     "metadata": {},
     "output_type": "display_data"
    }
   ],
   "source": [
    "## MpV B\n",
    "matlab.B <- data.frame(\"lat\"=MpV.B$Latitude,\"lon\"=MpV.B$Longitude,\"T\"=MpV.B$Temperature,\"Presence\"=as.numeric(MpV.B.Presence))\n",
    "\n",
    "Tp.B = 15.1\n",
    "matlab.B$model[matlab.B$T <= Tp.B] = 1\n",
    "matlab.B$model[matlab.B$T > Tp.B] = 0\n",
    "\n",
    "matlab.B = na.omit(matlab.B)\n",
    "\n",
    "matlab.B$diff = matlab.B$model - matlab.B$Presence\n",
    "matlab.B$ROC[matlab.B$diff == -1] = \"FN\"\n",
    "matlab.B$ROC[matlab.B$diff == 1] = \"FP\"\n",
    "matlab.B$ROC[matlab.B$diff == 0 & matlab.B$Presence == 1] = \"TP\"\n",
    "matlab.B$ROC[matlab.B$diff == 0 & matlab.B$Presence == 0] = \"TN\"\n",
    "matlab.B$Prediction[matlab.B$diff == 0] = \"True\"\n",
    "matlab.B$Prediction[matlab.B$diff != 0] = \"False\"\n",
    "\n",
    "prop.B = data.frame(\"ROC\" = c(\"TP\",\"TN\",\"FP\",\"FN\"))\n",
    "prop.B$p[1] = 100*length(matlab.B$ROC[matlab.B$ROC==\"TP\"])/length(matlab.B$ROC)\n",
    "prop.B$p[2] = 100*length(matlab.B$ROC[matlab.B$ROC==\"TN\"])/length(matlab.B$ROC)\n",
    "prop.B$p[3] = 100*length(matlab.B$ROC[matlab.B$ROC==\"FP\"])/length(matlab.B$ROC)\n",
    "prop.B$p[4] = 100*length(matlab.B$ROC[matlab.B$ROC==\"FN\"])/length(matlab.B$ROC)\n",
    "# Add label position\n",
    "prop.B <- prop.B %>%\n",
    "  arrange(desc(ROC)) %>%\n",
    "  mutate(lab.ypos = cumsum(p) - 0.5*p)\n",
    "prop.B$lab.ypos[3]=90\n",
    "prop.B$lab.ypos[4]=4\n",
    "\n",
    "#prop.A\n",
    "mycols <- c(\"#ffd966\", \"#f37736\", \"#0392cf\",\"#7bc043\")\n",
    "\n",
    "pdf(file=\"./figures/figure5_ROC_freq_B.pdf\",\n",
    "    width = 5, height = 5, # Width and height in inches\n",
    "    bg = \"white\",            # Background color\n",
    "    colormodel = \"rgb\",      # Color model (cmyk is required for most publications)\n",
    "    paper = \"USr\")           # Paper size\n",
    "\n",
    "ggplot(prop.B, aes(x = \"\", y = p, fill = ROC)) +\n",
    "  geom_bar(width = 1, stat = \"identity\", color = \"white\") +\n",
    "  coord_polar(\"y\", start = 0)+\n",
    "  geom_text(aes(y = lab.ypos, label = round(p,1)), color = \"black\",cex=10)+\n",
    "  scale_fill_manual(values = mycols) +\n",
    "  theme_void()\n",
    "\n",
    "write.csv(matlab.B, \"./data/matlab.B.csv\", row.names=FALSE)\n",
    "\n",
    "dev.off()\n",
    "\n",
    "length(matlab.B$ROC)\n",
    "length(matlab.B$Presence[matlab.B$Presence == 1])"
   ]
  },
  {
   "cell_type": "code",
   "execution_count": 30,
   "id": "4a01f595-0254-4fad-8084-baa7d12a7ede",
   "metadata": {},
   "outputs": [
    {
     "data": {
      "text/html": [
       "<table class=\"dataframe\">\n",
       "<caption>A data.frame: 4 × 3</caption>\n",
       "<thead>\n",
       "\t<tr><th scope=col>ROC</th><th scope=col>p</th><th scope=col>lab.ypos</th></tr>\n",
       "\t<tr><th scope=col>&lt;chr&gt;</th><th scope=col>&lt;dbl&gt;</th><th scope=col>&lt;dbl&gt;</th></tr>\n",
       "</thead>\n",
       "<tbody>\n",
       "\t<tr><td>TP</td><td> 3.9823009</td><td>90.00000</td></tr>\n",
       "\t<tr><td>TN</td><td>47.7876106</td><td>27.87611</td></tr>\n",
       "\t<tr><td>FP</td><td>47.7876106</td><td>75.66372</td></tr>\n",
       "\t<tr><td>FN</td><td> 0.4424779</td><td> 4.00000</td></tr>\n",
       "</tbody>\n",
       "</table>\n"
      ],
      "text/latex": [
       "A data.frame: 4 × 3\n",
       "\\begin{tabular}{lll}\n",
       " ROC & p & lab.ypos\\\\\n",
       " <chr> & <dbl> & <dbl>\\\\\n",
       "\\hline\n",
       "\t TP &  3.9823009 & 90.00000\\\\\n",
       "\t TN & 47.7876106 & 27.87611\\\\\n",
       "\t FP & 47.7876106 & 75.66372\\\\\n",
       "\t FN &  0.4424779 &  4.00000\\\\\n",
       "\\end{tabular}\n"
      ],
      "text/markdown": [
       "\n",
       "A data.frame: 4 × 3\n",
       "\n",
       "| ROC &lt;chr&gt; | p &lt;dbl&gt; | lab.ypos &lt;dbl&gt; |\n",
       "|---|---|---|\n",
       "| TP |  3.9823009 | 90.00000 |\n",
       "| TN | 47.7876106 | 27.87611 |\n",
       "| FP | 47.7876106 | 75.66372 |\n",
       "| FN |  0.4424779 |  4.00000 |\n",
       "\n"
      ],
      "text/plain": [
       "  ROC p          lab.ypos\n",
       "1 TP   3.9823009 90.00000\n",
       "2 TN  47.7876106 27.87611\n",
       "3 FP  47.7876106 75.66372\n",
       "4 FN   0.4424779  4.00000"
      ]
     },
     "metadata": {},
     "output_type": "display_data"
    },
    {
     "data": {
      "text/html": [
       "<strong>pdf:</strong> 2"
      ],
      "text/latex": [
       "\\textbf{pdf:} 2"
      ],
      "text/markdown": [
       "**pdf:** 2"
      ],
      "text/plain": [
       "pdf \n",
       "  2 "
      ]
     },
     "metadata": {},
     "output_type": "display_data"
    },
    {
     "data": {
      "text/html": [
       "226"
      ],
      "text/latex": [
       "226"
      ],
      "text/markdown": [
       "226"
      ],
      "text/plain": [
       "[1] 226"
      ]
     },
     "metadata": {},
     "output_type": "display_data"
    },
    {
     "data": {
      "text/html": [
       "10"
      ],
      "text/latex": [
       "10"
      ],
      "text/markdown": [
       "10"
      ],
      "text/plain": [
       "[1] 10"
      ]
     },
     "metadata": {},
     "output_type": "display_data"
    }
   ],
   "source": [
    "## MpV C\n",
    "matlab.C <- data.frame(\"lat\"=MpV.C$Latitude,\"lon\"=MpV.C$Longitude,\"T\"=MpV.C$Temperature,\"Presence\"=as.numeric(MpV.C.Presence))\n",
    "\n",
    "Tp.C = 21.2\n",
    "matlab.C$model[matlab.C$T <= Tp.C] = 1\n",
    "matlab.C$model[matlab.C$T > Tp.C] = 0\n",
    "\n",
    "matlab.C = na.omit(matlab.C)\n",
    "\n",
    "matlab.C$diff = matlab.C$model - matlab.C$Presence\n",
    "matlab.C$ROC[matlab.C$diff == -1] = \"FN\"\n",
    "matlab.C$ROC[matlab.C$diff == 1] = \"FP\"\n",
    "matlab.C$ROC[matlab.C$diff == 0 & matlab.C$Presence == 1] = \"TP\"\n",
    "matlab.C$ROC[matlab.C$diff == 0 & matlab.C$Presence == 0] = \"TN\"\n",
    "matlab.C$Prediction[matlab.C$diff == 0] = \"True\"\n",
    "matlab.C$Prediction[matlab.C$diff != 0] = \"False\"\n",
    "\n",
    "prop.C = data.frame(\"ROC\" = c(\"TP\",\"TN\",\"FP\",\"FN\"))\n",
    "prop.C$p[1] = 100*length(matlab.C$ROC[matlab.C$ROC==\"TP\"])/length(matlab.C$ROC)\n",
    "prop.C$p[2] = 100*length(matlab.C$ROC[matlab.C$ROC==\"TN\"])/length(matlab.C$ROC)\n",
    "prop.C$p[3] = 100*length(matlab.C$ROC[matlab.C$ROC==\"FP\"])/length(matlab.C$ROC)\n",
    "prop.C$p[4] = 100*length(matlab.C$ROC[matlab.C$ROC==\"FN\"])/length(matlab.C$ROC)\n",
    "# Add label position\n",
    "prop.C <- prop.C %>%\n",
    "  arrange(desc(ROC)) %>%\n",
    "  mutate(lab.ypos = cumsum(p) - 0.5*p)\n",
    "prop.C$lab.ypos[1]=90\n",
    "prop.C$lab.ypos[4]=4\n",
    "\n",
    "prop.C\n",
    "mycols <- c(\"#ffd966\", \"#f37736\", \"#0392cf\",\"#7bc043\")\n",
    "\n",
    "pdf(file=\"./figures/figure5_ROC_freq_C.pdf\",\n",
    "    width = 5, height = 5, # Width and height in inches\n",
    "    bg = \"white\",            # Background color\n",
    "    colormodel = \"rgb\",      # Color model (cmyk is required for most publications)\n",
    "    paper = \"USr\")           # Paper size\n",
    "\n",
    "ggplot(prop.C, aes(x = \"\", y = p, fill = ROC)) +\n",
    "  geom_bar(width = 1, stat = \"identity\", color = \"white\") +\n",
    "  coord_polar(\"y\", start = 0)+\n",
    "  geom_text(aes(y = lab.ypos, label = round(p,1)), color = \"black\",cex=10)+\n",
    "  scale_fill_manual(values = mycols) +\n",
    "  theme_void()\n",
    "\n",
    "dev.off()\n",
    "\n",
    "write.csv(matlab.C, \"./data/matlab.C.csv\", row.names=FALSE)\n",
    "\n",
    "length(matlab.C$ROC)\n",
    "length(matlab.C$Presence[matlab.C$Presence == 1])"
   ]
  },
  {
   "cell_type": "code",
   "execution_count": 29,
   "id": "d5e2b70b-5d14-4df9-81e3-8ee2e7da5e9b",
   "metadata": {},
   "outputs": [
    {
     "data": {
      "text/html": [
       "<strong>pdf:</strong> 2"
      ],
      "text/latex": [
       "\\textbf{pdf:} 2"
      ],
      "text/markdown": [
       "**pdf:** 2"
      ],
      "text/plain": [
       "pdf \n",
       "  2 "
      ]
     },
     "metadata": {},
     "output_type": "display_data"
    },
    {
     "data": {
      "text/html": [
       "226"
      ],
      "text/latex": [
       "226"
      ],
      "text/markdown": [
       "226"
      ],
      "text/plain": [
       "[1] 226"
      ]
     },
     "metadata": {},
     "output_type": "display_data"
    },
    {
     "data": {
      "text/html": [
       "70"
      ],
      "text/latex": [
       "70"
      ],
      "text/markdown": [
       "70"
      ],
      "text/plain": [
       "[1] 70"
      ]
     },
     "metadata": {},
     "output_type": "display_data"
    }
   ],
   "source": [
    "## MpV POl\n",
    "matlab.Pol <- data.frame(\"lat\"=MpV.Pol$Latitude,\"lon\"=MpV.Pol$Longitude,\"T\"=MpV.Pol$Temperature,\"Presence\"=as.numeric(MpV.Pol.Presence))\n",
    "\n",
    "Tp.Pol = 13.9\n",
    "matlab.Pol$model[matlab.Pol$T <= Tp.Pol] = 1\n",
    "matlab.Pol$model[matlab.Pol$T > Tp.Pol] = 0\n",
    "\n",
    "matlab.Pol = na.omit(matlab.Pol)\n",
    "\n",
    "matlab.Pol$diff = matlab.Pol$model - matlab.Pol$Presence\n",
    "matlab.Pol$ROC[matlab.Pol$diff == -1] = \"FN\"\n",
    "matlab.Pol$ROC[matlab.Pol$diff == 1] = \"FP\"\n",
    "matlab.Pol$ROC[matlab.Pol$diff == 0 & matlab.Pol$Presence == 1] = \"TP\"\n",
    "matlab.Pol$ROC[matlab.Pol$diff == 0 & matlab.Pol$Presence == 0] = \"TN\"\n",
    "matlab.Pol$Prediction[matlab.Pol$diff == 0] = \"True\"\n",
    "matlab.Pol$Prediction[matlab.Pol$diff != 0] = \"False\"\n",
    "\n",
    "prop.Pol = data.frame(\"ROC\" = c(\"TP\",\"TN\",\"FP\",\"FN\"))\n",
    "prop.Pol$p[1] = 100*length(matlab.Pol$ROC[matlab.Pol$ROC==\"TP\"])/length(matlab.Pol$ROC)\n",
    "prop.Pol$p[2] = 100*length(matlab.Pol$ROC[matlab.Pol$ROC==\"TN\"])/length(matlab.Pol$ROC)\n",
    "prop.Pol$p[3] = 100*length(matlab.Pol$ROC[matlab.Pol$ROC==\"FP\"])/length(matlab.Pol$ROC)\n",
    "prop.Pol$p[4] = 100*length(matlab.Pol$ROC[matlab.Pol$ROC==\"FN\"])/length(matlab.Pol$ROC)\n",
    "# Add label position\n",
    "prop.Pol <- prop.Pol %>%\n",
    "  arrange(desc(ROC)) %>%\n",
    "  mutate(lab.ypos = cumsum(p) - 0.5*p)\n",
    "#prop.Pol\n",
    "\n",
    "#prop.Pol\n",
    "mycols <- c(\"#ffd966\", \"#f37736\", \"#0392cf\",\"#7bc043\")\n",
    "\n",
    "pdf(file=\"./figures/figure5_ROC_freq_Pol.pdf\",\n",
    "    width = 5, height = 5, # Width and height in inches\n",
    "    bg = \"white\",            # Background color\n",
    "    colormodel = \"rgb\",      # Color model (cmyk is required for most publications)\n",
    "    paper = \"USr\")           # Paper size\n",
    "\n",
    "ggplot(prop.Pol, aes(x = \"\", y = p, fill = ROC)) +\n",
    "  geom_bar(width = 1, stat = \"identity\", color = \"white\") +\n",
    "  coord_polar(\"y\", start = 0)+\n",
    "  geom_text(aes(y = lab.ypos, label = round(p,1)), color = \"black\",cex=10)+\n",
    "  scale_fill_manual(values = mycols) +\n",
    "  theme_void()\n",
    "\n",
    "dev.off()\n",
    "\n",
    "write.csv(matlab.Pol, \"./data/matlab.Pol.csv\", row.names=FALSE)\n",
    "\n",
    "length(matlab.Pol$ROC)\n",
    "length(matlab.Pol$Presence[matlab.Pol$Presence == 1])"
   ]
  }
 ],
 "metadata": {
  "kernelspec": {
   "display_name": "R",
   "language": "R",
   "name": "ir"
  },
  "language_info": {
   "codemirror_mode": "r",
   "file_extension": ".r",
   "mimetype": "text/x-r-source",
   "name": "R",
   "pygments_lexer": "r",
   "version": "4.2.3"
  }
 },
 "nbformat": 4,
 "nbformat_minor": 5
}
