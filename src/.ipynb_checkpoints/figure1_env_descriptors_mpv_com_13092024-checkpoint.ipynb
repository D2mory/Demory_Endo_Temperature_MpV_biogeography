{
 "cells": [
  {
   "cell_type": "markdown",
   "id": "6894a289",
   "metadata": {},
   "source": [
    "## TARA MpV Temperature\n",
    "## Figure 1 \n",
    "**David Demory -- 20 Oct. 2023**"
   ]
  },
  {
   "cell_type": "markdown",
   "id": "32034157",
   "metadata": {},
   "source": [
    "### Set up environments and load datasets"
   ]
  },
  {
   "cell_type": "code",
   "execution_count": 1,
   "id": "0033f513",
   "metadata": {},
   "outputs": [
    {
     "data": {
      "text/html": [
       "'/Users/daviddemory/My Drive/CNRS/research/Hiro_collaboration_Micromonas_Virus_Temperature_TARA/DEMORY_ENDO_MpV_biogeography_2024/Demory_Endo_Temperature_MpV_biogeography'"
      ],
      "text/latex": [
       "'/Users/daviddemory/My Drive/CNRS/research/Hiro\\_collaboration\\_Micromonas\\_Virus\\_Temperature\\_TARA/DEMORY\\_ENDO\\_MpV\\_biogeography\\_2024/Demory\\_Endo\\_Temperature\\_MpV\\_biogeography'"
      ],
      "text/markdown": [
       "'/Users/daviddemory/My Drive/CNRS/research/Hiro_collaboration_Micromonas_Virus_Temperature_TARA/DEMORY_ENDO_MpV_biogeography_2024/Demory_Endo_Temperature_MpV_biogeography'"
      ],
      "text/plain": [
       "[1] \"/Users/daviddemory/My Drive/CNRS/research/Hiro_collaboration_Micromonas_Virus_Temperature_TARA/DEMORY_ENDO_MpV_biogeography_2024/Demory_Endo_Temperature_MpV_biogeography\""
      ]
     },
     "metadata": {},
     "output_type": "display_data"
    }
   ],
   "source": [
    "## Workspace\n",
    "rm(list = ls())\n",
    "workdir = \"../\" #set your path to the folder \"Demory_Endo_Temperature_MpV_biogeography\"\n",
    "setwd(workdir)\n",
    "getwd()\n",
    "\n",
    "\n"
   ]
  },
  {
   "cell_type": "code",
   "execution_count": 2,
   "id": "309b7da3",
   "metadata": {},
   "outputs": [],
   "source": [
    "#install.packages(\"mgcv\")\n",
    "#install.packages(\"RColorBrewer\")\n",
    "#install.packages(\"ggplot2\")\n",
    "#install.packages(\"vegan\")\n",
    "#install.packages(\"ggmap\")\n",
    "#install.packages(\"latex2exp\")\n",
    "#install.packages(\"dplyr\")\n",
    "#install.packages(\"gridBase\")\n",
    "#install.packages(\"grid\")\n",
    "#install.packages(\"ape\")\n",
    "#install.packages(\"maps\")"
   ]
  },
  {
   "cell_type": "code",
   "execution_count": 3,
   "id": "9d615fad",
   "metadata": {},
   "outputs": [],
   "source": [
    "## libraries\n",
    "library(\"mgcv\")\n",
    "library(\"RColorBrewer\")\n",
    "library(\"ggplot2\")\n",
    "library(\"vegan\")\n",
    "library(\"ggmap\")\n",
    "library(\"latex2exp\")\n",
    "library(\"dplyr\")\n",
    "library(\"gridBase\")\n",
    "library(\"grid\")\n",
    "library(\"ape\")\n",
    "library(\"maps\")"
   ]
  },
  {
   "cell_type": "code",
   "execution_count": 4,
   "id": "e273fe9b",
   "metadata": {},
   "outputs": [
    {
     "data": {
      "text/html": [
       "'/Users/daviddemory/My Drive/CNRS/research/Hiro_collaboration_Micromonas_Virus_Temperature_TARA/DEMORY_ENDO_MpV_biogeography_2024/Demory_Endo_Temperature_MpV_biogeography'"
      ],
      "text/latex": [
       "'/Users/daviddemory/My Drive/CNRS/research/Hiro\\_collaboration\\_Micromonas\\_Virus\\_Temperature\\_TARA/DEMORY\\_ENDO\\_MpV\\_biogeography\\_2024/Demory\\_Endo\\_Temperature\\_MpV\\_biogeography'"
      ],
      "text/markdown": [
       "'/Users/daviddemory/My Drive/CNRS/research/Hiro_collaboration_Micromonas_Virus_Temperature_TARA/DEMORY_ENDO_MpV_biogeography_2024/Demory_Endo_Temperature_MpV_biogeography'"
      ],
      "text/plain": [
       "[1] \"/Users/daviddemory/My Drive/CNRS/research/Hiro_collaboration_Micromonas_Virus_Temperature_TARA/DEMORY_ENDO_MpV_biogeography_2024/Demory_Endo_Temperature_MpV_biogeography\""
      ]
     },
     "metadata": {},
     "output_type": "display_data"
    },
    {
     "data": {
      "text/html": [
       "<table class=\"dataframe\">\n",
       "<caption>A data.frame: 6 × 15</caption>\n",
       "<thead>\n",
       "\t<tr><th></th><th scope=col>query.acc.ver</th><th scope=col>subject.acc.ver</th><th scope=col>X..identity</th><th scope=col>alignment.length</th><th scope=col>mismatches</th><th scope=col>gap.opens</th><th scope=col>q.start</th><th scope=col>q.end</th><th scope=col>s.start</th><th scope=col>s.end</th><th scope=col>evalue</th><th scope=col>bit.score</th><th scope=col>strain.V</th><th scope=col>sp.V</th><th scope=col>phylotype</th></tr>\n",
       "\t<tr><th></th><th scope=col>&lt;chr&gt;</th><th scope=col>&lt;chr&gt;</th><th scope=col>&lt;dbl&gt;</th><th scope=col>&lt;int&gt;</th><th scope=col>&lt;int&gt;</th><th scope=col>&lt;int&gt;</th><th scope=col>&lt;int&gt;</th><th scope=col>&lt;int&gt;</th><th scope=col>&lt;int&gt;</th><th scope=col>&lt;int&gt;</th><th scope=col>&lt;dbl&gt;</th><th scope=col>&lt;int&gt;</th><th scope=col>&lt;chr&gt;</th><th scope=col>&lt;chr&gt;</th><th scope=col>&lt;chr&gt;</th></tr>\n",
       "</thead>\n",
       "<tbody>\n",
       "\t<tr><th scope=row>4</th><td>KP734132.1</td><td>TARA_067_SRF_0.45-0.8_G_scaffold219644_1_gene229127</td><td>98.878</td><td>624</td><td> 7</td><td>0</td><td>1</td><td>624</td><td>1384</td><td>2007</td><td>0</td><td>1114</td><td>4224</td><td>MicV-C</td><td>NA</td></tr>\n",
       "\t<tr><th scope=row>5</th><td>KP734141.1</td><td>TARA_067_SRF_0.45-0.8_G_scaffold219644_1_gene229127</td><td>99.191</td><td>618</td><td> 5</td><td>0</td><td>7</td><td>624</td><td>1390</td><td>2007</td><td>0</td><td>1114</td><td>4225</td><td>MicV-C</td><td>NA</td></tr>\n",
       "\t<tr><th scope=row>6</th><td>KP734135.1</td><td>TARA_067_SRF_0.45-0.8_G_scaffold219644_1_gene229127</td><td>99.065</td><td>642</td><td> 6</td><td>0</td><td>1</td><td>642</td><td>1390</td><td>2031</td><td>0</td><td>1153</td><td>4226</td><td>MicV-C</td><td>NA</td></tr>\n",
       "\t<tr><th scope=row>7</th><td>KP734130.1</td><td>TARA_067_SRF_0.45-0.8_G_scaffold219644_1_gene229127</td><td>97.782</td><td>496</td><td>10</td><td>1</td><td>1</td><td>495</td><td>1458</td><td>1953</td><td>0</td><td> 854</td><td>4228</td><td>MicV-C</td><td>NA</td></tr>\n",
       "\t<tr><th scope=row>8</th><td>KP734133.1</td><td>TARA_067_SRF_0.45-0.8_G_scaffold219644_1_gene229127</td><td>98.878</td><td>624</td><td> 7</td><td>0</td><td>1</td><td>624</td><td>1384</td><td>2007</td><td>0</td><td>1114</td><td>4229</td><td>MicV-C</td><td>NA</td></tr>\n",
       "\t<tr><th scope=row>9</th><td>KP734131.1</td><td>TARA_067_SRF_0.45-0.8_G_scaffold219644_1_gene229127</td><td>98.276</td><td>580</td><td>10</td><td>0</td><td>1</td><td>580</td><td>1378</td><td>1957</td><td>0</td><td>1016</td><td>4230</td><td>MicV-C</td><td>NA</td></tr>\n",
       "</tbody>\n",
       "</table>\n"
      ],
      "text/latex": [
       "A data.frame: 6 × 15\n",
       "\\begin{tabular}{r|lllllllllllllll}\n",
       "  & query.acc.ver & subject.acc.ver & X..identity & alignment.length & mismatches & gap.opens & q.start & q.end & s.start & s.end & evalue & bit.score & strain.V & sp.V & phylotype\\\\\n",
       "  & <chr> & <chr> & <dbl> & <int> & <int> & <int> & <int> & <int> & <int> & <int> & <dbl> & <int> & <chr> & <chr> & <chr>\\\\\n",
       "\\hline\n",
       "\t4 & KP734132.1 & TARA\\_067\\_SRF\\_0.45-0.8\\_G\\_scaffold219644\\_1\\_gene229127 & 98.878 & 624 &  7 & 0 & 1 & 624 & 1384 & 2007 & 0 & 1114 & 4224 & MicV-C & NA\\\\\n",
       "\t5 & KP734141.1 & TARA\\_067\\_SRF\\_0.45-0.8\\_G\\_scaffold219644\\_1\\_gene229127 & 99.191 & 618 &  5 & 0 & 7 & 624 & 1390 & 2007 & 0 & 1114 & 4225 & MicV-C & NA\\\\\n",
       "\t6 & KP734135.1 & TARA\\_067\\_SRF\\_0.45-0.8\\_G\\_scaffold219644\\_1\\_gene229127 & 99.065 & 642 &  6 & 0 & 1 & 642 & 1390 & 2031 & 0 & 1153 & 4226 & MicV-C & NA\\\\\n",
       "\t7 & KP734130.1 & TARA\\_067\\_SRF\\_0.45-0.8\\_G\\_scaffold219644\\_1\\_gene229127 & 97.782 & 496 & 10 & 1 & 1 & 495 & 1458 & 1953 & 0 &  854 & 4228 & MicV-C & NA\\\\\n",
       "\t8 & KP734133.1 & TARA\\_067\\_SRF\\_0.45-0.8\\_G\\_scaffold219644\\_1\\_gene229127 & 98.878 & 624 &  7 & 0 & 1 & 624 & 1384 & 2007 & 0 & 1114 & 4229 & MicV-C & NA\\\\\n",
       "\t9 & KP734131.1 & TARA\\_067\\_SRF\\_0.45-0.8\\_G\\_scaffold219644\\_1\\_gene229127 & 98.276 & 580 & 10 & 0 & 1 & 580 & 1378 & 1957 & 0 & 1016 & 4230 & MicV-C & NA\\\\\n",
       "\\end{tabular}\n"
      ],
      "text/markdown": [
       "\n",
       "A data.frame: 6 × 15\n",
       "\n",
       "| <!--/--> | query.acc.ver &lt;chr&gt; | subject.acc.ver &lt;chr&gt; | X..identity &lt;dbl&gt; | alignment.length &lt;int&gt; | mismatches &lt;int&gt; | gap.opens &lt;int&gt; | q.start &lt;int&gt; | q.end &lt;int&gt; | s.start &lt;int&gt; | s.end &lt;int&gt; | evalue &lt;dbl&gt; | bit.score &lt;int&gt; | strain.V &lt;chr&gt; | sp.V &lt;chr&gt; | phylotype &lt;chr&gt; |\n",
       "|---|---|---|---|---|---|---|---|---|---|---|---|---|---|---|---|\n",
       "| 4 | KP734132.1 | TARA_067_SRF_0.45-0.8_G_scaffold219644_1_gene229127 | 98.878 | 624 |  7 | 0 | 1 | 624 | 1384 | 2007 | 0 | 1114 | 4224 | MicV-C | NA |\n",
       "| 5 | KP734141.1 | TARA_067_SRF_0.45-0.8_G_scaffold219644_1_gene229127 | 99.191 | 618 |  5 | 0 | 7 | 624 | 1390 | 2007 | 0 | 1114 | 4225 | MicV-C | NA |\n",
       "| 6 | KP734135.1 | TARA_067_SRF_0.45-0.8_G_scaffold219644_1_gene229127 | 99.065 | 642 |  6 | 0 | 1 | 642 | 1390 | 2031 | 0 | 1153 | 4226 | MicV-C | NA |\n",
       "| 7 | KP734130.1 | TARA_067_SRF_0.45-0.8_G_scaffold219644_1_gene229127 | 97.782 | 496 | 10 | 1 | 1 | 495 | 1458 | 1953 | 0 |  854 | 4228 | MicV-C | NA |\n",
       "| 8 | KP734133.1 | TARA_067_SRF_0.45-0.8_G_scaffold219644_1_gene229127 | 98.878 | 624 |  7 | 0 | 1 | 624 | 1384 | 2007 | 0 | 1114 | 4229 | MicV-C | NA |\n",
       "| 9 | KP734131.1 | TARA_067_SRF_0.45-0.8_G_scaffold219644_1_gene229127 | 98.276 | 580 | 10 | 0 | 1 | 580 | 1378 | 1957 | 0 | 1016 | 4230 | MicV-C | NA |\n",
       "\n"
      ],
      "text/plain": [
       "  query.acc.ver subject.acc.ver                                     X..identity\n",
       "4 KP734132.1    TARA_067_SRF_0.45-0.8_G_scaffold219644_1_gene229127 98.878     \n",
       "5 KP734141.1    TARA_067_SRF_0.45-0.8_G_scaffold219644_1_gene229127 99.191     \n",
       "6 KP734135.1    TARA_067_SRF_0.45-0.8_G_scaffold219644_1_gene229127 99.065     \n",
       "7 KP734130.1    TARA_067_SRF_0.45-0.8_G_scaffold219644_1_gene229127 97.782     \n",
       "8 KP734133.1    TARA_067_SRF_0.45-0.8_G_scaffold219644_1_gene229127 98.878     \n",
       "9 KP734131.1    TARA_067_SRF_0.45-0.8_G_scaffold219644_1_gene229127 98.276     \n",
       "  alignment.length mismatches gap.opens q.start q.end s.start s.end evalue\n",
       "4 624               7         0         1       624   1384    2007  0     \n",
       "5 618               5         0         7       624   1390    2007  0     \n",
       "6 642               6         0         1       642   1390    2031  0     \n",
       "7 496              10         1         1       495   1458    1953  0     \n",
       "8 624               7         0         1       624   1384    2007  0     \n",
       "9 580              10         0         1       580   1378    1957  0     \n",
       "  bit.score strain.V sp.V   phylotype\n",
       "4 1114      4224     MicV-C NA       \n",
       "5 1114      4225     MicV-C NA       \n",
       "6 1153      4226     MicV-C NA       \n",
       "7  854      4228     MicV-C NA       \n",
       "8 1114      4229     MicV-C NA       \n",
       "9 1016      4230     MicV-C NA       "
      ]
     },
     "metadata": {},
     "output_type": "display_data"
    }
   ],
   "source": [
    "## Load viral \"OTU\" information datasets\n",
    "getwd()\n",
    "info.V <- read.csv(\"./data/Info_Virus_New2023.txt\", sep=\"\")\n",
    "head(info.V)"
   ]
  },
  {
   "cell_type": "code",
   "execution_count": 5,
   "id": "d8bfd281",
   "metadata": {},
   "outputs": [
    {
     "data": {
      "text/html": [
       "<table class=\"dataframe\">\n",
       "<caption>A data.frame: 6 × 132</caption>\n",
       "<thead>\n",
       "\t<tr><th></th><th scope=col>ids</th><th scope=col>Sample</th><th scope=col>Size</th><th scope=col>Depth</th><th scope=col>Biome</th><th scope=col>Region</th><th scope=col>Latitude</th><th scope=col>Longitude</th><th scope=col>Depth.nominal</th><th scope=col>Depth.Mixed.Layer</th><th scope=col>⋯</th><th scope=col>TARA_206_SRF_lt.0.22_G_scaffold1112_3_gene5143</th><th scope=col>TARA_206_SRF_lt.0.22_G_scaffold67020_2_gene178808</th><th scope=col>TARA_208_SRF_0.22.3_G_C17804651_1_gene477260</th><th scope=col>TARA_208_SRF_0.22.3_G_scaffold180075_1_gene217350</th><th scope=col>TARA_208_SRF_0.22.3_G_scaffold190124_1_gene237696</th><th scope=col>TARA_209_SRF_lt.0.22_G_scaffold95791_3_gene212186</th><th scope=col>TARA_210_MES_lt.0.22_G_scaffold34478_2_gene115714</th><th scope=col>TARA_210_SRF_0.22.3_G_scaffold21461_1_gene17795</th><th scope=col>TARA_210_SRF_lt.0.22_G_scaffold207559_1_gene458458</th><th scope=col>TARA_210_SRF_lt.0.22_G_scaffold9078_2_gene48755</th></tr>\n",
       "\t<tr><th></th><th scope=col>&lt;chr&gt;</th><th scope=col>&lt;chr&gt;</th><th scope=col>&lt;chr&gt;</th><th scope=col>&lt;chr&gt;</th><th scope=col>&lt;chr&gt;</th><th scope=col>&lt;chr&gt;</th><th scope=col>&lt;dbl&gt;</th><th scope=col>&lt;dbl&gt;</th><th scope=col>&lt;int&gt;</th><th scope=col>&lt;int&gt;</th><th scope=col>⋯</th><th scope=col>&lt;dbl&gt;</th><th scope=col>&lt;dbl&gt;</th><th scope=col>&lt;dbl&gt;</th><th scope=col>&lt;dbl&gt;</th><th scope=col>&lt;dbl&gt;</th><th scope=col>&lt;dbl&gt;</th><th scope=col>&lt;dbl&gt;</th><th scope=col>&lt;dbl&gt;</th><th scope=col>&lt;dbl&gt;</th><th scope=col>&lt;dbl&gt;</th></tr>\n",
       "</thead>\n",
       "<tbody>\n",
       "\t<tr><th scope=row>3</th><td>TARA_007_DCM_0.22-1.6_G</td><td>TARA_007_DCM</td><td>Pico</td><td>DCM</td><td>Westerlies</td><td>MS</td><td>37.0541</td><td> 1.9478</td><td>42</td><td>18</td><td>⋯</td><td>0</td><td>0</td><td>0</td><td>0.008444783</td><td>0</td><td>0</td><td>0</td><td>0</td><td>0</td><td>0</td></tr>\n",
       "\t<tr><th scope=row>4</th><td>TARA_007_SRF_0.22-1.6_G</td><td>TARA_007_SRF</td><td>Pico</td><td>SRF</td><td>Westerlies</td><td>MS</td><td>37.0510</td><td> 1.9378</td><td> 9</td><td>18</td><td>⋯</td><td>0</td><td>0</td><td>0</td><td>0.000000000</td><td>0</td><td>0</td><td>0</td><td>0</td><td>0</td><td>0</td></tr>\n",
       "\t<tr><th scope=row>8</th><td>TARA_018_SRF_0.22-1.6_G</td><td>TARA_018_SRF</td><td>Pico</td><td>SRF</td><td>Westerlies</td><td>MS</td><td>35.7590</td><td>14.2574</td><td> 5</td><td>51</td><td>⋯</td><td>0</td><td>0</td><td>0</td><td>0.000000000</td><td>0</td><td>0</td><td>0</td><td>0</td><td>0</td><td>0</td></tr>\n",
       "\t<tr><th scope=row>9</th><td>TARA_023_DCM_0.22-1.6_G</td><td>TARA_023_DCM</td><td>Pico</td><td>DCM</td><td>Westerlies</td><td>MS</td><td>42.1735</td><td>17.7252</td><td>55</td><td>12</td><td>⋯</td><td>0</td><td>0</td><td>0</td><td>0.000000000</td><td>0</td><td>0</td><td>0</td><td>0</td><td>0</td><td>0</td></tr>\n",
       "\t<tr><th scope=row>10</th><td>TARA_023_SRF_0.22-1.6_G</td><td>TARA_023_SRF</td><td>Pico</td><td>SRF</td><td>Westerlies</td><td>MS</td><td>42.2038</td><td>17.7150</td><td> 5</td><td>16</td><td>⋯</td><td>0</td><td>0</td><td>0</td><td>0.000000000</td><td>0</td><td>0</td><td>0</td><td>0</td><td>0</td><td>0</td></tr>\n",
       "\t<tr><th scope=row>12</th><td>TARA_025_SRF_0.22-1.6_G</td><td>TARA_025_SRF</td><td>Pico</td><td>SRF</td><td>Westerlies</td><td>MS</td><td>39.3888</td><td>19.3905</td><td> 5</td><td>30</td><td>⋯</td><td>0</td><td>0</td><td>0</td><td>0.000000000</td><td>0</td><td>0</td><td>0</td><td>0</td><td>0</td><td>0</td></tr>\n",
       "</tbody>\n",
       "</table>\n"
      ],
      "text/latex": [
       "A data.frame: 6 × 132\n",
       "\\begin{tabular}{r|lllllllllllllllllllll}\n",
       "  & ids & Sample & Size & Depth & Biome & Region & Latitude & Longitude & Depth.nominal & Depth.Mixed.Layer & ⋯ & TARA\\_206\\_SRF\\_lt.0.22\\_G\\_scaffold1112\\_3\\_gene5143 & TARA\\_206\\_SRF\\_lt.0.22\\_G\\_scaffold67020\\_2\\_gene178808 & TARA\\_208\\_SRF\\_0.22.3\\_G\\_C17804651\\_1\\_gene477260 & TARA\\_208\\_SRF\\_0.22.3\\_G\\_scaffold180075\\_1\\_gene217350 & TARA\\_208\\_SRF\\_0.22.3\\_G\\_scaffold190124\\_1\\_gene237696 & TARA\\_209\\_SRF\\_lt.0.22\\_G\\_scaffold95791\\_3\\_gene212186 & TARA\\_210\\_MES\\_lt.0.22\\_G\\_scaffold34478\\_2\\_gene115714 & TARA\\_210\\_SRF\\_0.22.3\\_G\\_scaffold21461\\_1\\_gene17795 & TARA\\_210\\_SRF\\_lt.0.22\\_G\\_scaffold207559\\_1\\_gene458458 & TARA\\_210\\_SRF\\_lt.0.22\\_G\\_scaffold9078\\_2\\_gene48755\\\\\n",
       "  & <chr> & <chr> & <chr> & <chr> & <chr> & <chr> & <dbl> & <dbl> & <int> & <int> & ⋯ & <dbl> & <dbl> & <dbl> & <dbl> & <dbl> & <dbl> & <dbl> & <dbl> & <dbl> & <dbl>\\\\\n",
       "\\hline\n",
       "\t3 & TARA\\_007\\_DCM\\_0.22-1.6\\_G & TARA\\_007\\_DCM & Pico & DCM & Westerlies & MS & 37.0541 &  1.9478 & 42 & 18 & ⋯ & 0 & 0 & 0 & 0.008444783 & 0 & 0 & 0 & 0 & 0 & 0\\\\\n",
       "\t4 & TARA\\_007\\_SRF\\_0.22-1.6\\_G & TARA\\_007\\_SRF & Pico & SRF & Westerlies & MS & 37.0510 &  1.9378 &  9 & 18 & ⋯ & 0 & 0 & 0 & 0.000000000 & 0 & 0 & 0 & 0 & 0 & 0\\\\\n",
       "\t8 & TARA\\_018\\_SRF\\_0.22-1.6\\_G & TARA\\_018\\_SRF & Pico & SRF & Westerlies & MS & 35.7590 & 14.2574 &  5 & 51 & ⋯ & 0 & 0 & 0 & 0.000000000 & 0 & 0 & 0 & 0 & 0 & 0\\\\\n",
       "\t9 & TARA\\_023\\_DCM\\_0.22-1.6\\_G & TARA\\_023\\_DCM & Pico & DCM & Westerlies & MS & 42.1735 & 17.7252 & 55 & 12 & ⋯ & 0 & 0 & 0 & 0.000000000 & 0 & 0 & 0 & 0 & 0 & 0\\\\\n",
       "\t10 & TARA\\_023\\_SRF\\_0.22-1.6\\_G & TARA\\_023\\_SRF & Pico & SRF & Westerlies & MS & 42.2038 & 17.7150 &  5 & 16 & ⋯ & 0 & 0 & 0 & 0.000000000 & 0 & 0 & 0 & 0 & 0 & 0\\\\\n",
       "\t12 & TARA\\_025\\_SRF\\_0.22-1.6\\_G & TARA\\_025\\_SRF & Pico & SRF & Westerlies & MS & 39.3888 & 19.3905 &  5 & 30 & ⋯ & 0 & 0 & 0 & 0.000000000 & 0 & 0 & 0 & 0 & 0 & 0\\\\\n",
       "\\end{tabular}\n"
      ],
      "text/markdown": [
       "\n",
       "A data.frame: 6 × 132\n",
       "\n",
       "| <!--/--> | ids &lt;chr&gt; | Sample &lt;chr&gt; | Size &lt;chr&gt; | Depth &lt;chr&gt; | Biome &lt;chr&gt; | Region &lt;chr&gt; | Latitude &lt;dbl&gt; | Longitude &lt;dbl&gt; | Depth.nominal &lt;int&gt; | Depth.Mixed.Layer &lt;int&gt; | ⋯ ⋯ | TARA_206_SRF_lt.0.22_G_scaffold1112_3_gene5143 &lt;dbl&gt; | TARA_206_SRF_lt.0.22_G_scaffold67020_2_gene178808 &lt;dbl&gt; | TARA_208_SRF_0.22.3_G_C17804651_1_gene477260 &lt;dbl&gt; | TARA_208_SRF_0.22.3_G_scaffold180075_1_gene217350 &lt;dbl&gt; | TARA_208_SRF_0.22.3_G_scaffold190124_1_gene237696 &lt;dbl&gt; | TARA_209_SRF_lt.0.22_G_scaffold95791_3_gene212186 &lt;dbl&gt; | TARA_210_MES_lt.0.22_G_scaffold34478_2_gene115714 &lt;dbl&gt; | TARA_210_SRF_0.22.3_G_scaffold21461_1_gene17795 &lt;dbl&gt; | TARA_210_SRF_lt.0.22_G_scaffold207559_1_gene458458 &lt;dbl&gt; | TARA_210_SRF_lt.0.22_G_scaffold9078_2_gene48755 &lt;dbl&gt; |\n",
       "|---|---|---|---|---|---|---|---|---|---|---|---|---|---|---|---|---|---|---|---|---|---|\n",
       "| 3 | TARA_007_DCM_0.22-1.6_G | TARA_007_DCM | Pico | DCM | Westerlies | MS | 37.0541 |  1.9478 | 42 | 18 | ⋯ | 0 | 0 | 0 | 0.008444783 | 0 | 0 | 0 | 0 | 0 | 0 |\n",
       "| 4 | TARA_007_SRF_0.22-1.6_G | TARA_007_SRF | Pico | SRF | Westerlies | MS | 37.0510 |  1.9378 |  9 | 18 | ⋯ | 0 | 0 | 0 | 0.000000000 | 0 | 0 | 0 | 0 | 0 | 0 |\n",
       "| 8 | TARA_018_SRF_0.22-1.6_G | TARA_018_SRF | Pico | SRF | Westerlies | MS | 35.7590 | 14.2574 |  5 | 51 | ⋯ | 0 | 0 | 0 | 0.000000000 | 0 | 0 | 0 | 0 | 0 | 0 |\n",
       "| 9 | TARA_023_DCM_0.22-1.6_G | TARA_023_DCM | Pico | DCM | Westerlies | MS | 42.1735 | 17.7252 | 55 | 12 | ⋯ | 0 | 0 | 0 | 0.000000000 | 0 | 0 | 0 | 0 | 0 | 0 |\n",
       "| 10 | TARA_023_SRF_0.22-1.6_G | TARA_023_SRF | Pico | SRF | Westerlies | MS | 42.2038 | 17.7150 |  5 | 16 | ⋯ | 0 | 0 | 0 | 0.000000000 | 0 | 0 | 0 | 0 | 0 | 0 |\n",
       "| 12 | TARA_025_SRF_0.22-1.6_G | TARA_025_SRF | Pico | SRF | Westerlies | MS | 39.3888 | 19.3905 |  5 | 30 | ⋯ | 0 | 0 | 0 | 0.000000000 | 0 | 0 | 0 | 0 | 0 | 0 |\n",
       "\n"
      ],
      "text/plain": [
       "   ids                     Sample       Size Depth Biome      Region Latitude\n",
       "3  TARA_007_DCM_0.22-1.6_G TARA_007_DCM Pico DCM   Westerlies MS     37.0541 \n",
       "4  TARA_007_SRF_0.22-1.6_G TARA_007_SRF Pico SRF   Westerlies MS     37.0510 \n",
       "8  TARA_018_SRF_0.22-1.6_G TARA_018_SRF Pico SRF   Westerlies MS     35.7590 \n",
       "9  TARA_023_DCM_0.22-1.6_G TARA_023_DCM Pico DCM   Westerlies MS     42.1735 \n",
       "10 TARA_023_SRF_0.22-1.6_G TARA_023_SRF Pico SRF   Westerlies MS     42.2038 \n",
       "12 TARA_025_SRF_0.22-1.6_G TARA_025_SRF Pico SRF   Westerlies MS     39.3888 \n",
       "   Longitude Depth.nominal Depth.Mixed.Layer ⋯\n",
       "3   1.9478   42            18                ⋯\n",
       "4   1.9378    9            18                ⋯\n",
       "8  14.2574    5            51                ⋯\n",
       "9  17.7252   55            12                ⋯\n",
       "10 17.7150    5            16                ⋯\n",
       "12 19.3905    5            30                ⋯\n",
       "   TARA_206_SRF_lt.0.22_G_scaffold1112_3_gene5143\n",
       "3  0                                             \n",
       "4  0                                             \n",
       "8  0                                             \n",
       "9  0                                             \n",
       "10 0                                             \n",
       "12 0                                             \n",
       "   TARA_206_SRF_lt.0.22_G_scaffold67020_2_gene178808\n",
       "3  0                                                \n",
       "4  0                                                \n",
       "8  0                                                \n",
       "9  0                                                \n",
       "10 0                                                \n",
       "12 0                                                \n",
       "   TARA_208_SRF_0.22.3_G_C17804651_1_gene477260\n",
       "3  0                                           \n",
       "4  0                                           \n",
       "8  0                                           \n",
       "9  0                                           \n",
       "10 0                                           \n",
       "12 0                                           \n",
       "   TARA_208_SRF_0.22.3_G_scaffold180075_1_gene217350\n",
       "3  0.008444783                                      \n",
       "4  0.000000000                                      \n",
       "8  0.000000000                                      \n",
       "9  0.000000000                                      \n",
       "10 0.000000000                                      \n",
       "12 0.000000000                                      \n",
       "   TARA_208_SRF_0.22.3_G_scaffold190124_1_gene237696\n",
       "3  0                                                \n",
       "4  0                                                \n",
       "8  0                                                \n",
       "9  0                                                \n",
       "10 0                                                \n",
       "12 0                                                \n",
       "   TARA_209_SRF_lt.0.22_G_scaffold95791_3_gene212186\n",
       "3  0                                                \n",
       "4  0                                                \n",
       "8  0                                                \n",
       "9  0                                                \n",
       "10 0                                                \n",
       "12 0                                                \n",
       "   TARA_210_MES_lt.0.22_G_scaffold34478_2_gene115714\n",
       "3  0                                                \n",
       "4  0                                                \n",
       "8  0                                                \n",
       "9  0                                                \n",
       "10 0                                                \n",
       "12 0                                                \n",
       "   TARA_210_SRF_0.22.3_G_scaffold21461_1_gene17795\n",
       "3  0                                              \n",
       "4  0                                              \n",
       "8  0                                              \n",
       "9  0                                              \n",
       "10 0                                              \n",
       "12 0                                              \n",
       "   TARA_210_SRF_lt.0.22_G_scaffold207559_1_gene458458\n",
       "3  0                                                 \n",
       "4  0                                                 \n",
       "8  0                                                 \n",
       "9  0                                                 \n",
       "10 0                                                 \n",
       "12 0                                                 \n",
       "   TARA_210_SRF_lt.0.22_G_scaffold9078_2_gene48755\n",
       "3  0                                              \n",
       "4  0                                              \n",
       "8  0                                              \n",
       "9  0                                              \n",
       "10 0                                              \n",
       "12 0                                              "
      ]
     },
     "metadata": {},
     "output_type": "display_data"
    }
   ],
   "source": [
    "## Load viral TARA dataset\n",
    "TARA.V <- read.delim(\"./data/df_MicV_merge_stdz.txt\",header=TRUE)\n",
    "TARA.V <- na.omit(TARA.V)\n",
    "head(TARA.V)"
   ]
  },
  {
   "cell_type": "code",
   "execution_count": 6,
   "id": "6218adc3",
   "metadata": {},
   "outputs": [],
   "source": [
    "## Define Biome accordingly to Latitude and T\n",
    "Biome2 <- rep(\"NA\",1,131)\n",
    "Biome2[which(abs(TARA.V$Lat)>=60)]<-\"Polar\"\n",
    "Biome2[which(abs(TARA.V$Lat)<60 & abs(TARA.V$Lat)>=23 & TARA.V$Temperature>=20)]<-\"Temperate W\"\n",
    "Biome2[which(abs(TARA.V$Lat)<60 & abs(TARA.V$Lat)>=23 & TARA.V$Temperature<20)]<-\"Temperate C\"\n",
    "Biome2[which(abs(TARA.V$Lat)<23 & abs(TARA.V$Lat)>=0  & TARA.V$Temperature<20)]<-\"Tropical C\"\n",
    "Biome2[which(abs(TARA.V$Lat)<23 & abs(TARA.V$Lat)>=0  & TARA.V$Temperature>=20)]<-\"Tropical W\"\n",
    "TARA.V$Biome <- Biome2"
   ]
  },
  {
   "cell_type": "code",
   "execution_count": 7,
   "id": "699d617c",
   "metadata": {},
   "outputs": [],
   "source": [
    "## environmental and comunity subsets\n",
    "com = TARA.V[,20:132]\n",
    "env = TARA.V[,9:16]\n",
    "#dim(TARA.V)\n",
    "#head(env)\n",
    "#head(com)"
   ]
  },
  {
   "cell_type": "code",
   "execution_count": 8,
   "id": "39284311",
   "metadata": {},
   "outputs": [],
   "source": [
    "## Rename column names (for better plots)\n",
    "#colnames(env)\n",
    "names(env)[names(env) == \"Depth.Mixed.Layer\"] <- \"MLD\"\n",
    "names(env)[names(env) == \"Depth.nominal\"] <- \"Depth\"\n",
    "names(env)[names(env) == \"Temperature\"] <- \"T\"\n",
    "names(env)[names(env) == \"Salinity\"] <- \"Sal\"\n",
    "names(env)[names(env) == \"ChlorophyllA\"] <- \"chla\"\n",
    "names(env)[names(env) == \"Depth\"] <- \"z\"\n",
    "names(env)[names(env) == \"PO4\"] <- \"P\"\n",
    "names(env)[names(env) == \"NO2NO3\"] <- \"N\"\n",
    "#head(env)"
   ]
  },
  {
   "cell_type": "code",
   "execution_count": 9,
   "id": "f1c631e9",
   "metadata": {},
   "outputs": [],
   "source": [
    "## Relative abundances of MpV/NCDLVs\n",
    "relAb_NCDLVs <- read.delim(\"./data/env_ncldv_eupho_df_mpv.txt\", header=TRUE)\n",
    "totMpV_NCDLV <- rowSums (relAb_NCDLVs[17:131], na.rm = TRUE, dims = 1)\n",
    "\n",
    "df_totMpV <- data.frame(\"lat\" = round(relAb_NCDLVs$Latitude),\"T\"=relAb_NCDLVs$Temperature, \"MpV\" = totMpV_NCDLV)\n",
    "df_totMpV <- aggregate(data=df_totMpV,.~lat,function(x) c(mean = mean(x), sd = sd(x)))\n",
    "\n",
    "## Add biomes\n",
    "df_totMpV$Biome <- c()\n",
    "df_totMpV$Biome[abs(df_totMpV$lat)>=60]<-\"polar\"\n",
    "df_totMpV$Biome[abs(df_totMpV$lat)<60 & abs(df_totMpV$lat)>=23 & df_totMpV$T[,1]<20 ]<-\"temperate cold\"\n",
    "df_totMpV$Biome[abs(df_totMpV$lat)<60 & abs(df_totMpV$lat)>=23 & df_totMpV$T[,1]>=20 ]<-\"temperate warm\"\n",
    "df_totMpV$Biome[abs(df_totMpV$lat)<23 & df_totMpV$T[,1]<20 ]<-\"tropical cold\"\n",
    "df_totMpV$Biome[abs(df_totMpV$lat)<23 & df_totMpV$T[,1]>=20 ]<-\"tropical warm\"\n",
    "\n",
    "low_sd <- df_totMpV$MpV[,1]-df_totMpV$MpV[,2]\n",
    "low_sd[low_sd<0]<-0\n",
    "up_sd <- df_totMpV$MpV[,1]+df_totMpV$MpV[,2]"
   ]
  },
  {
   "cell_type": "code",
   "execution_count": 10,
   "id": "b575ec02",
   "metadata": {},
   "outputs": [],
   "source": [
    "## Color palette\n",
    "colvec = c(\"#A655F1\",\"#00ACE0\",'#FED302',\"#FDAB5E\",\"#F07167\")"
   ]
  },
  {
   "cell_type": "markdown",
   "id": "17236fd5",
   "metadata": {},
   "source": [
    "### Fig 1A -- TARA map"
   ]
  },
  {
   "cell_type": "code",
   "execution_count": 11,
   "id": "c6dd9ddd",
   "metadata": {},
   "outputs": [],
   "source": [
    "## Define longitude and latitude station\n",
    "station.lon <- TARA.V$Longitude\n",
    "station.lat <- TARA.V$Latitude\n",
    "\n",
    "## Figure 1A\n",
    "# Using GGPLOT, plot the Base World Map \n",
    "mapWorld <- borders(\"world\", colour=\"black\", fill=\"black\") # create a layer of borders\n",
    "f1A.map <- ggplot() +   mapWorld + xlab(\"Longitude\") + ylab(\"Latitude\")\n",
    "f1A.map <- f1A.map + geom_point(aes(x=station.lon, y=station.lat) ,pch=18,color=colvec[factor(TARA.V$Biome)], size=4) \n",
    "f1A.map <- f1A.map + theme_classic() + scale_y_continuous(expand=c(0,0),limits=c(-84,90)) + theme(\n",
    "    axis.title.x = element_text(size = 16),\n",
    "    axis.title.y = element_text(size = 16),\n",
    "    axis.text = element_text(size = 16))\n",
    "\n",
    "#f1A.map"
   ]
  },
  {
   "cell_type": "markdown",
   "id": "e149651d",
   "metadata": {},
   "source": [
    "### Fig 1B -- Relative Abundance"
   ]
  },
  {
   "cell_type": "code",
   "execution_count": 12,
   "id": "6820e694",
   "metadata": {},
   "outputs": [
    {
     "data": {
      "text/html": [
       "'Polar region: mean = 28.640676, sd = 18.324614'"
      ],
      "text/latex": [
       "'Polar region: mean = 28.640676, sd = 18.324614'"
      ],
      "text/markdown": [
       "'Polar region: mean = 28.640676, sd = 18.324614'"
      ],
      "text/plain": [
       "[1] \"Polar region: mean = 28.640676, sd = 18.324614\""
      ]
     },
     "metadata": {},
     "output_type": "display_data"
    },
    {
     "data": {
      "text/html": [
       "'Temperate cold region: mean = 8.619604, sd = 12.410413'"
      ],
      "text/latex": [
       "'Temperate cold region: mean = 8.619604, sd = 12.410413'"
      ],
      "text/markdown": [
       "'Temperate cold region: mean = 8.619604, sd = 12.410413'"
      ],
      "text/plain": [
       "[1] \"Temperate cold region: mean = 8.619604, sd = 12.410413\""
      ]
     },
     "metadata": {},
     "output_type": "display_data"
    },
    {
     "data": {
      "text/html": [
       "'Temperate warm region: mean = 1.686448, sd = 3.995518'"
      ],
      "text/latex": [
       "'Temperate warm region: mean = 1.686448, sd = 3.995518'"
      ],
      "text/markdown": [
       "'Temperate warm region: mean = 1.686448, sd = 3.995518'"
      ],
      "text/plain": [
       "[1] \"Temperate warm region: mean = 1.686448, sd = 3.995518\""
      ]
     },
     "metadata": {},
     "output_type": "display_data"
    },
    {
     "data": {
      "text/html": [
       "'Tropical cold region: mean = 0.046497, sd = 0.063259'"
      ],
      "text/latex": [
       "'Tropical cold region: mean = 0.046497, sd = 0.063259'"
      ],
      "text/markdown": [
       "'Tropical cold region: mean = 0.046497, sd = 0.063259'"
      ],
      "text/plain": [
       "[1] \"Tropical cold region: mean = 0.046497, sd = 0.063259\""
      ]
     },
     "metadata": {},
     "output_type": "display_data"
    },
    {
     "data": {
      "text/html": [
       "'Tropical warm region: mean = 1.306947, sd = 1.835515'"
      ],
      "text/latex": [
       "'Tropical warm region: mean = 1.306947, sd = 1.835515'"
      ],
      "text/markdown": [
       "'Tropical warm region: mean = 1.306947, sd = 1.835515'"
      ],
      "text/plain": [
       "[1] \"Tropical warm region: mean = 1.306947, sd = 1.835515\""
      ]
     },
     "metadata": {},
     "output_type": "display_data"
    }
   ],
   "source": [
    "## Figure 1B\n",
    "f1B.relAb <-ggplot(data=df_totMpV, aes(x = lat, y=MpV[,1],fill=Biome))+ geom_bar(stat=\"identity\",width=1,position=position_dodge()) +\n",
    "  geom_errorbar(aes(ymin=df_totMpV$MpV[,1],ymax=up_sd), width=1,position=position_dodge(2))+\n",
    "  labs(colour = \"Temperature\",x=\"Latitude\",y=\"MpV % in NCLDVs\") + theme_classic()+theme(legend.position = \"none\")+ scale_fill_manual(values=colvec)\n",
    "f1B.relAb <- f1B.relAb+scale_x_continuous(limits=c(-80,80),breaks = c(-80,-60,-40,-23,0,23,40,60,80),labels = c(-80,-60,-40,-23,0,23,40,60,80))+scale_y_continuous(expand = c(0, 0))+\n",
    "  theme(axis.title.x = element_text(size = 16),\n",
    "        axis.title.y = element_text(size = 16),\n",
    "        axis.text = element_text(size = 16))\n",
    "    #+ geom_hline(yintercept=50, linetype=\"dashed\", color = \"black\", size = 1) \n",
    "    #+ geom_hline(yintercept=25, linetype=\"dashed\", color = \"black\", size = 1) \n",
    "    #+ geom_hline(yintercept=10, linetype=\"dashed\", color = \"black\", size = 1)\n",
    "\n",
    "                       \n",
    "#f1B.relAb\n",
    "\n",
    "## statistics\n",
    "PolRab <- c(mean(df_totMpV$MpV[df_totMpV$Biome=='polar',1]),sd(df_totMpV$MpV[df_totMpV$Biome=='polar',1]))\n",
    "TCRab <- c(mean(df_totMpV$MpV[df_totMpV$Biome=='temperate cold',1]),sd(df_totMpV$MpV[df_totMpV$Biome=='temperate cold',1]))\n",
    "TWRab <- c(mean(df_totMpV$MpV[df_totMpV$Biome=='temperate warm',1]),sd(df_totMpV$MpV[df_totMpV$Biome=='temperate warm',1]))\n",
    "TrCRab <- c(mean(df_totMpV$MpV[df_totMpV$Biome=='tropical cold',1]),sd(df_totMpV$MpV[df_totMpV$Biome=='tropical cold',1]))\n",
    "TrWRab <- c(mean(df_totMpV$MpV[df_totMpV$Biome=='tropical warm',1]),sd(df_totMpV$MpV[df_totMpV$Biome=='tropical warm',1]))\n",
    "\n",
    "sprintf(\"Polar region: mean = %f, sd = %f\", PolRab[1], PolRab[2])\n",
    "sprintf(\"Temperate cold region: mean = %f, sd = %f\", TCRab[1], TCRab[2])\n",
    "sprintf(\"Temperate warm region: mean = %f, sd = %f\", TWRab[1], TWRab[2])\n",
    "sprintf(\"Tropical cold region: mean = %f, sd = %f\", TrCRab[1], TrCRab[2])\n",
    "sprintf(\"Tropical warm region: mean = %f, sd = %f\", TrWRab[1], TrWRab[2])"
   ]
  },
  {
   "cell_type": "markdown",
   "id": "993e5d13",
   "metadata": {},
   "source": [
    "### Fig 1C -- PCoA"
   ]
  },
  {
   "cell_type": "code",
   "execution_count": 13,
   "id": "cabe6191",
   "metadata": {},
   "outputs": [],
   "source": [
    "## Disimilarity Bray-Curtis matrix\n",
    "rsum_com <- rowSums(com)\n",
    "TARA.V.temp <- TARA.V[rsum_com!=0,]\n",
    "com.for.pcoa <- cbind(ids=TARA.V.temp$ids,com[rsum_com!=0,])\n",
    "com.bray <- vegdist(com.for.pcoa[,2:ncol(com.for.pcoa)], method = \"bray\") # dissimilarity matrix using bray-curtis distance indices on the varespec dataset native to vegan\n",
    "#com.bray\n",
    "#TARA.V$ids[test!=0]\n",
    "#dim(com.for.pcoa)\n",
    "#com.for.pcoa[,2:ncol(com.for.pcoa)]\n",
    "#com.pcoa <- pcoa(com.com) \n",
    "#length(com.for.pcoa)"
   ]
  },
  {
   "cell_type": "code",
   "execution_count": 14,
   "id": "286ab292",
   "metadata": {},
   "outputs": [
    {
     "data": {
      "text/html": [
       "<table class=\"dataframe\">\n",
       "<caption>A anova.cca: 3 × 5</caption>\n",
       "<thead>\n",
       "\t<tr><th></th><th scope=col>Df</th><th scope=col>SumOfSqs</th><th scope=col>R2</th><th scope=col>F</th><th scope=col>Pr(&gt;F)</th></tr>\n",
       "\t<tr><th></th><th scope=col>&lt;dbl&gt;</th><th scope=col>&lt;dbl&gt;</th><th scope=col>&lt;dbl&gt;</th><th scope=col>&lt;dbl&gt;</th><th scope=col>&lt;dbl&gt;</th></tr>\n",
       "</thead>\n",
       "<tbody>\n",
       "\t<tr><th scope=row>com.pcoa.data$Biome</th><td>  4</td><td>13.88493</td><td>0.2726528</td><td>11.33949</td><td>1e-04</td></tr>\n",
       "\t<tr><th scope=row>Residual</th><td>121</td><td>37.04038</td><td>0.7273472</td><td>      NA</td><td>   NA</td></tr>\n",
       "\t<tr><th scope=row>Total</th><td>125</td><td>50.92531</td><td>1.0000000</td><td>      NA</td><td>   NA</td></tr>\n",
       "</tbody>\n",
       "</table>\n"
      ],
      "text/latex": [
       "A anova.cca: 3 × 5\n",
       "\\begin{tabular}{r|lllll}\n",
       "  & Df & SumOfSqs & R2 & F & Pr(>F)\\\\\n",
       "  & <dbl> & <dbl> & <dbl> & <dbl> & <dbl>\\\\\n",
       "\\hline\n",
       "\tcom.pcoa.data\\$Biome &   4 & 13.88493 & 0.2726528 & 11.33949 & 1e-04\\\\\n",
       "\tResidual & 121 & 37.04038 & 0.7273472 &       NA &    NA\\\\\n",
       "\tTotal & 125 & 50.92531 & 1.0000000 &       NA &    NA\\\\\n",
       "\\end{tabular}\n"
      ],
      "text/markdown": [
       "\n",
       "A anova.cca: 3 × 5\n",
       "\n",
       "| <!--/--> | Df &lt;dbl&gt; | SumOfSqs &lt;dbl&gt; | R2 &lt;dbl&gt; | F &lt;dbl&gt; | Pr(&gt;F) &lt;dbl&gt; |\n",
       "|---|---|---|---|---|---|\n",
       "| com.pcoa.data$Biome |   4 | 13.88493 | 0.2726528 | 11.33949 | 1e-04 |\n",
       "| Residual | 121 | 37.04038 | 0.7273472 |       NA |    NA |\n",
       "| Total | 125 | 50.92531 | 1.0000000 |       NA |    NA |\n",
       "\n"
      ],
      "text/plain": [
       "                    Df  SumOfSqs R2        F        Pr(>F)\n",
       "com.pcoa.data$Biome   4 13.88493 0.2726528 11.33949 1e-04 \n",
       "Residual            121 37.04038 0.7273472       NA    NA \n",
       "Total               125 50.92531 1.0000000       NA    NA "
      ]
     },
     "metadata": {},
     "output_type": "display_data"
    },
    {
     "data": {
      "text/html": [
       "<table class=\"dataframe\">\n",
       "<caption>A anova.cca: 3 × 5</caption>\n",
       "<thead>\n",
       "\t<tr><th></th><th scope=col>Df</th><th scope=col>SumOfSqs</th><th scope=col>R2</th><th scope=col>F</th><th scope=col>Pr(&gt;F)</th></tr>\n",
       "\t<tr><th></th><th scope=col>&lt;dbl&gt;</th><th scope=col>&lt;dbl&gt;</th><th scope=col>&lt;dbl&gt;</th><th scope=col>&lt;dbl&gt;</th><th scope=col>&lt;dbl&gt;</th></tr>\n",
       "</thead>\n",
       "<tbody>\n",
       "\t<tr><th scope=row>com.pcoa.data.OCE$Biome</th><td> 3</td><td>0.1055972</td><td>0.2388843</td><td>7.532656</td><td>0.0011</td></tr>\n",
       "\t<tr><th scope=row>Residual</th><td>72</td><td>0.3364461</td><td>0.7611157</td><td>      NA</td><td>    NA</td></tr>\n",
       "\t<tr><th scope=row>Total</th><td>75</td><td>0.4420433</td><td>1.0000000</td><td>      NA</td><td>    NA</td></tr>\n",
       "</tbody>\n",
       "</table>\n"
      ],
      "text/latex": [
       "A anova.cca: 3 × 5\n",
       "\\begin{tabular}{r|lllll}\n",
       "  & Df & SumOfSqs & R2 & F & Pr(>F)\\\\\n",
       "  & <dbl> & <dbl> & <dbl> & <dbl> & <dbl>\\\\\n",
       "\\hline\n",
       "\tcom.pcoa.data.OCE\\$Biome &  3 & 0.1055972 & 0.2388843 & 7.532656 & 0.0011\\\\\n",
       "\tResidual & 72 & 0.3364461 & 0.7611157 &       NA &     NA\\\\\n",
       "\tTotal & 75 & 0.4420433 & 1.0000000 &       NA &     NA\\\\\n",
       "\\end{tabular}\n"
      ],
      "text/markdown": [
       "\n",
       "A anova.cca: 3 × 5\n",
       "\n",
       "| <!--/--> | Df &lt;dbl&gt; | SumOfSqs &lt;dbl&gt; | R2 &lt;dbl&gt; | F &lt;dbl&gt; | Pr(&gt;F) &lt;dbl&gt; |\n",
       "|---|---|---|---|---|---|\n",
       "| com.pcoa.data.OCE$Biome |  3 | 0.1055972 | 0.2388843 | 7.532656 | 0.0011 |\n",
       "| Residual | 72 | 0.3364461 | 0.7611157 |       NA |     NA |\n",
       "| Total | 75 | 0.4420433 | 1.0000000 |       NA |     NA |\n",
       "\n"
      ],
      "text/plain": [
       "                        Df SumOfSqs  R2        F        Pr(>F)\n",
       "com.pcoa.data.OCE$Biome  3 0.1055972 0.2388843 7.532656 0.0011\n",
       "Residual                72 0.3364461 0.7611157       NA     NA\n",
       "Total                   75 0.4420433 1.0000000       NA     NA"
      ]
     },
     "metadata": {},
     "output_type": "display_data"
    }
   ],
   "source": [
    "## PCoA\n",
    "com.pcoa <- pcoa(com.bray) \n",
    "\n",
    "## Calculate the % of variance explained by axis 1 and 2\n",
    "Axis1.percent <-\n",
    "  com.pcoa$values$Relative_eig[[1]] * 100 # Dimension (i.e., Axis 1 (PCOA1))\n",
    "\n",
    "Axis2.percent <-\n",
    "  com.pcoa$values$Relative_eig[[2]] * 100 # Dimension (i.e., Axis 2 (PCOA2))\n",
    "\n",
    "#sprintf(\"%f percent explained by Axis 1\",Axis1.percent)\n",
    "#sprintf(\"%f percent explained by Axis 2\",Axis2.percent)\n",
    "\n",
    "## Create a data.frame combining PCoA scores and biogeography informations\n",
    "com.pcoa.data <-\n",
    "  data.frame(\n",
    "    ids = com.for.pcoa$ids,\n",
    "    X = com.pcoa$vectors[, 1],\n",
    "    Y = com.pcoa$vectors[, 2]\n",
    "  )\n",
    "\n",
    "#head(com.pcoa.data)\n",
    "\n",
    "# Polar vs. non-Polar\n",
    "grp <- rep(\"NA\",1,131)\n",
    "grp[which(TARA.V$Biome==\"Polar\")]<-\"Polar\"\n",
    "grp[which(TARA.V$Biome!=\"Polar\")]<-\"non-Polar\"\n",
    "\n",
    "sample_env <- data.frame(ids = TARA.V$ids, Biome = TARA.V$Biome, Region = TARA.V$Region, grp = grp, Temperature = TARA.V$Temperature, Depth = TARA.V$Depth)\n",
    "com.pcoa.data <- left_join(com.pcoa.data, sample_env, by = \"ids\")\n",
    "\n",
    "## Permanova test (differences between spatial groups)\n",
    "com.bray.OCE = com.bray[which(com.pcoa.data$grp == \"non-Polar\")]\n",
    "com.pcoa.data.OCE = com.pcoa.data[which(com.pcoa.data$grp == \"non-Polar\"),]\n",
    "\n",
    "com.pcoa.all.permanova <- adonis2(com.bray ~ com.pcoa.data$Biome,permutations = 9999)\n",
    "com.pcoa.all.permanova\n",
    "\n",
    "com.pcoa.OCE.permanova <- adonis2(com.bray.OCE ~ com.pcoa.data.OCE$Biome,permutations = 9999)\n",
    "com.pcoa.OCE.permanova"
   ]
  },
  {
   "cell_type": "code",
   "execution_count": 15,
   "id": "a53c5709",
   "metadata": {},
   "outputs": [],
   "source": [
    "## Fig 1C\n",
    "f1C.pcoa <- ggplot(data = com.pcoa.data, aes(x = X, y = Y, color = Biome,fill=Biome)) +\n",
    "  stat_ellipse(data = com.pcoa.data, \n",
    "               aes(x = X, y = Y,group=Biome,col=Biome),\n",
    "               linetype = 2,\n",
    "               level = 0.95) +\n",
    "  stat_ellipse(data = com.pcoa.data, \n",
    "               aes(x = X, y = Y,group=Biome,fill=Biome),\n",
    "               linetype = 2,\n",
    "               level = 0.95,geom=\"polygon\",alpha=0.1)+\n",
    "  stat_ellipse(data = com.pcoa.data, \n",
    "               aes(x = X, y = Y,group=Biome,fill=Biome),\n",
    "               linetype = 2,\n",
    "               level = 0.75,geom=\"polygon\",alpha=0.3)+\n",
    "  geom_point(aes(fill = Biome),\n",
    "             color=\"black\",pch=21, size=3) +\n",
    "  scale_color_manual(values=colvec)+\n",
    "  scale_fill_manual(values=colvec)+\n",
    "  xlab(paste(\"PCOA1 - \", round(Axis1.percent, 2), \"%\", sep = \"\")) +\n",
    "  ylab(paste(\"PCOA2 - \", round(Axis2.percent, 2), \"%\", sep = \"\")) +\n",
    "  theme_classic() + theme(\n",
    "    axis.title.x = element_text(size = 16),\n",
    "    axis.title.y = element_text(size = 16),\n",
    "    axis.text = element_text(size = 16))\n",
    "    \n",
    "    #legend.title = element_text(face = \"bold\", size = 10),\n",
    "    #legend.text = element_text(face = \"bold\", size = 10),\n",
    "    #legend.key.size = unit(1, 'lines'),\n",
    "    \n",
    "f1C.pcoa <- f1C.pcoa+\n",
    "#  annotate(x=-0.25, y=0.8, geom=\"text\",\n",
    "#           label=TeX(\"\\\\textbf{Permanova:}\"),color=\"black\",parse=TRUE)+\n",
    "#  annotate(x=-0.1425, y=0.74, geom=\"text\",parse = TRUE,\n",
    "#           label=expression(paste(\"All biomes: \",italic(\"p\"),\" = 1E-04\")),\n",
    "#           color=\"black\")+\n",
    "#  annotate(x=-0.0725, y=0.69, geom=\"text\",parse = TRUE,\n",
    "#         label=expression(paste(\"Non-polar biomes: \",italic(\"p\"),\" = 5E-04\")),\n",
    "#         color=\"black\")+\n",
    "  theme(legend.position = \"none\")\n",
    "\n",
    "#f1C.pcoa"
   ]
  },
  {
   "cell_type": "markdown",
   "id": "50e7dd1d",
   "metadata": {},
   "source": [
    "### Fig 1D -- Relationships with env."
   ]
  },
  {
   "cell_type": "code",
   "execution_count": 16,
   "id": "2798846e",
   "metadata": {},
   "outputs": [
    {
     "name": "stdout",
     "output_type": "stream",
     "text": [
      "\n",
      "Call:\n",
      "lm(formula = env.rel[, i] ~ scrs[, 1] + scrs[, 2])\n",
      "\n",
      "Residuals:\n",
      "   Min     1Q Median     3Q    Max \n",
      "-22.37 -18.95 -11.99  11.64 141.51 \n",
      "\n",
      "Coefficients:\n",
      "            Estimate Std. Error t value Pr(>|t|)    \n",
      "(Intercept)   22.468      2.849   7.887 1.43e-12 ***\n",
      "scrs[, 1]    -12.037      8.827  -1.364    0.175    \n",
      "scrs[, 2]     -3.506     10.906  -0.321    0.748    \n",
      "---\n",
      "Signif. codes:  0 ‘***’ 0.001 ‘**’ 0.01 ‘*’ 0.05 ‘.’ 0.1 ‘ ’ 1\n",
      "\n",
      "Residual standard error: 31.98 on 123 degrees of freedom\n",
      "Multiple R-squared:  0.01571,\tAdjusted R-squared:  -0.0002954 \n",
      "F-statistic: 0.9815 on 2 and 123 DF,  p-value: 0.3776\n",
      "\n",
      "\n",
      "Call:\n",
      "lm(formula = env.rel[, i] ~ scrs[, 1] + scrs[, 2])\n",
      "\n",
      "Residuals:\n",
      "   Min     1Q Median     3Q    Max \n",
      "-78.93 -49.13 -31.84  24.58 409.33 \n",
      "\n",
      "Coefficients:\n",
      "            Estimate Std. Error t value Pr(>|t|)    \n",
      "(Intercept)   69.556      7.465   9.318 5.99e-16 ***\n",
      "scrs[, 1]     33.042     23.128   1.429    0.156    \n",
      "scrs[, 2]     26.618     28.577   0.931    0.353    \n",
      "---\n",
      "Signif. codes:  0 ‘***’ 0.001 ‘**’ 0.01 ‘*’ 0.05 ‘.’ 0.1 ‘ ’ 1\n",
      "\n",
      "Residual standard error: 83.79 on 123 degrees of freedom\n",
      "Multiple R-squared:  0.0231,\tAdjusted R-squared:  0.007217 \n",
      "F-statistic: 1.454 on 2 and 123 DF,  p-value: 0.2375\n",
      "\n",
      "\n",
      "Call:\n",
      "lm(formula = env.rel[, i] ~ scrs[, 1] + scrs[, 2])\n",
      "\n",
      "Residuals:\n",
      "     Min       1Q   Median       3Q      Max \n",
      "-11.1409  -2.8266  -0.1112   2.0183  11.7212 \n",
      "\n",
      "Coefficients:\n",
      "            Estimate Std. Error t value Pr(>|t|)    \n",
      "(Intercept)  13.2908     0.4166  31.904   <2e-16 ***\n",
      "scrs[, 1]   -29.2988     1.2907 -22.699   <2e-16 ***\n",
      "scrs[, 2]    -2.1286     1.5948  -1.335    0.184    \n",
      "---\n",
      "Signif. codes:  0 ‘***’ 0.001 ‘**’ 0.01 ‘*’ 0.05 ‘.’ 0.1 ‘ ’ 1\n",
      "\n",
      "Residual standard error: 4.676 on 123 degrees of freedom\n",
      "Multiple R-squared:  0.8078,\tAdjusted R-squared:  0.8047 \n",
      "F-statistic: 258.5 on 2 and 123 DF,  p-value: < 2.2e-16\n",
      "\n",
      "\n",
      "Call:\n",
      "lm(formula = env.rel[, i] ~ scrs[, 1] + scrs[, 2])\n",
      "\n",
      "Residuals:\n",
      "     Min       1Q   Median       3Q      Max \n",
      "-11.5731  -0.5671   0.0135   1.3235   3.7645 \n",
      "\n",
      "Coefficients:\n",
      "            Estimate Std. Error t value Pr(>|t|)    \n",
      "(Intercept)  34.5671     0.2046 168.933  < 2e-16 ***\n",
      "scrs[, 1]    -5.3392     0.6340  -8.422  8.1e-14 ***\n",
      "scrs[, 2]    -2.2571     0.7834  -2.881  0.00467 ** \n",
      "---\n",
      "Signif. codes:  0 ‘***’ 0.001 ‘**’ 0.01 ‘*’ 0.05 ‘.’ 0.1 ‘ ’ 1\n",
      "\n",
      "Residual standard error: 2.297 on 123 degrees of freedom\n",
      "Multiple R-squared:  0.3918,\tAdjusted R-squared:  0.3819 \n",
      "F-statistic: 39.61 on 2 and 123 DF,  p-value: 5.253e-14\n",
      "\n",
      "\n",
      "Call:\n",
      "lm(formula = env.rel[, i] ~ scrs[, 1] + scrs[, 2])\n",
      "\n",
      "Residuals:\n",
      "    Min      1Q  Median      3Q     Max \n",
      "-0.6734 -0.3210 -0.1817  0.1177  2.2586 \n",
      "\n",
      "Coefficients:\n",
      "            Estimate Std. Error t value Pr(>|t|)    \n",
      "(Intercept)  0.44995    0.04908   9.167 1.38e-15 ***\n",
      "scrs[, 1]    0.55617    0.15207   3.657 0.000376 ***\n",
      "scrs[, 2]    0.08112    0.18790   0.432 0.666713    \n",
      "---\n",
      "Signif. codes:  0 ‘***’ 0.001 ‘**’ 0.01 ‘*’ 0.05 ‘.’ 0.1 ‘ ’ 1\n",
      "\n",
      "Residual standard error: 0.5509 on 123 degrees of freedom\n",
      "Multiple R-squared:  0.09931,\tAdjusted R-squared:  0.08467 \n",
      "F-statistic: 6.781 on 2 and 123 DF,  p-value: 0.001608\n",
      "\n",
      "\n",
      "Call:\n",
      "lm(formula = env.rel[, i] ~ scrs[, 1] + scrs[, 2])\n",
      "\n",
      "Residuals:\n",
      "    Min      1Q  Median      3Q     Max \n",
      "-6.1286 -3.7147 -1.9123  0.0561 26.6279 \n",
      "\n",
      "Coefficients:\n",
      "            Estimate Std. Error t value Pr(>|t|)    \n",
      "(Intercept)   3.7399     0.6149   6.082 1.38e-08 ***\n",
      "scrs[, 1]     4.4176     1.9051   2.319   0.0221 *  \n",
      "scrs[, 2]    -4.0067     2.3540  -1.702   0.0913 .  \n",
      "---\n",
      "Signif. codes:  0 ‘***’ 0.001 ‘**’ 0.01 ‘*’ 0.05 ‘.’ 0.1 ‘ ’ 1\n",
      "\n",
      "Residual standard error: 6.902 on 123 degrees of freedom\n",
      "Multiple R-squared:  0.06303,\tAdjusted R-squared:  0.04779 \n",
      "F-statistic: 4.137 on 2 and 123 DF,  p-value: 0.01825\n",
      "\n",
      "\n",
      "Call:\n",
      "lm(formula = env.rel[, i] ~ scrs[, 1] + scrs[, 2])\n",
      "\n",
      "Residuals:\n",
      "    Min      1Q  Median      3Q     Max \n",
      "-12.616  -3.062  -1.300   0.204  70.217 \n",
      "\n",
      "Coefficients:\n",
      "            Estimate Std. Error t value Pr(>|t|)    \n",
      "(Intercept)    5.294      1.135   4.663 7.97e-06 ***\n",
      "scrs[, 1]     10.230      3.518   2.908  0.00432 ** \n",
      "scrs[, 2]      9.281      4.346   2.135  0.03472 *  \n",
      "---\n",
      "Signif. codes:  0 ‘***’ 0.001 ‘**’ 0.01 ‘*’ 0.05 ‘.’ 0.1 ‘ ’ 1\n",
      "\n",
      "Residual standard error: 12.74 on 123 degrees of freedom\n",
      "Multiple R-squared:  0.0957,\tAdjusted R-squared:  0.08099 \n",
      "F-statistic: 6.508 on 2 and 123 DF,  p-value: 0.002057\n",
      "\n",
      "\n",
      "Call:\n",
      "lm(formula = env.rel[, i] ~ scrs[, 1] + scrs[, 2])\n",
      "\n",
      "Residuals:\n",
      "     Min       1Q   Median       3Q      Max \n",
      "-0.72392 -0.24375 -0.03252  0.11562  1.95237 \n",
      "\n",
      "Coefficients:\n",
      "            Estimate Std. Error t value Pr(>|t|)    \n",
      "(Intercept)  0.46582    0.03564  13.071  < 2e-16 ***\n",
      "scrs[, 1]    0.87714    0.11042   7.944 1.06e-12 ***\n",
      "scrs[, 2]   -0.21729    0.13644  -1.593    0.114    \n",
      "---\n",
      "Signif. codes:  0 ‘***’ 0.001 ‘**’ 0.01 ‘*’ 0.05 ‘.’ 0.1 ‘ ’ 1\n",
      "\n",
      "Residual standard error: 0.4 on 123 degrees of freedom\n",
      "Multiple R-squared:  0.348,\tAdjusted R-squared:  0.3374 \n",
      "F-statistic: 32.82 on 2 and 123 DF,  p-value: 3.783e-12\n",
      "\n"
     ]
    }
   ],
   "source": [
    "## Linear relationship between env. vars and com.\n",
    "# Extract PCoA scores for axis 1 and 2\n",
    "scrs <- scores(com.pcoa$vectors, choices = c(1,2))\n",
    "\n",
    "mod.lm.R2   <- 0\n",
    "mod.lm.pval <- 0\n",
    "mod.lm.F    <-0\n",
    "\n",
    "env.rel <- env[rsum_com!=0,]\n",
    "\n",
    "for (i in 1:8) {\n",
    "  mod.lm         <- lm(env.rel[,i] ~ scrs[,1]+scrs[,2])  \n",
    "  mod.lm.s       <- summary(mod.lm)\n",
    "  print(mod.lm.s)\n",
    "  mod.lm.R2[i]   <- mod.lm.s$r.squared\n",
    "  mod.lm.F[i]    <- mod.lm.s$fstatistic[1]\n",
    "  mod.lm.pval[i] <- pf(mod.lm.s$fstatistic[1],mod.lm.s$fstatistic[2],\n",
    "                    mod.lm.s$fstatistic[3],lower.tail=FALSE)\n",
    "}\n",
    "\n",
    "rel.lm <- data.frame(\"Variable\"=colnames(env),\"Fstat\"=mod.lm.F,\n",
    "                     \"pval\"=mod.lm.pval,\"R2\"=mod.lm.R2)\n",
    "sta.score = c(\"\",\"\",\"***\",\"***\",\"**\",\"**\",\"**\",\"***\")\n",
    "\n",
    "## Fig 1D\n",
    "f1D.rela <-ggplot(data=rel.lm, aes(x=Variable, y=R2)) +\n",
    "  geom_bar(stat=\"identity\", fill=\"grey\")+\n",
    "  geom_text(aes(label=sta.score), vjust=-0.3, size=3.5)+\n",
    "  labs(x = \"Abiotic variables\")+\n",
    "  scale_y_continuous(expand=c(0,0),limits=c(0,1))+\n",
    "  theme_classic() + theme(\n",
    "    axis.title.x = element_text(size = 16),\n",
    "    axis.title.y = element_text(size = 16),\n",
    "    axis.text = element_text(size = 16))+\n",
    "  labs(y = expression(R^{\"2\"}))\n",
    "\n",
    "#f1D.rela"
   ]
  },
  {
   "cell_type": "code",
   "execution_count": 17,
   "id": "09d371f7",
   "metadata": {},
   "outputs": [
    {
     "data": {
      "text/plain": [
       "\n",
       "\tPearson's product-moment correlation\n",
       "\n",
       "data:  env.rel$T and com.pcoa$vectors[, 1]\n",
       "t = -22.628, df = 124, p-value < 2.2e-16\n",
       "alternative hypothesis: true correlation is not equal to 0\n",
       "95 percent confidence interval:\n",
       " -0.9267156 -0.8567947\n",
       "sample estimates:\n",
       "       cor \n",
       "-0.8972416 \n"
      ]
     },
     "metadata": {},
     "output_type": "display_data"
    },
    {
     "data": {
      "text/plain": [
       "\n",
       "Call:\n",
       "lm(formula = env.rel$T ~ com.pcoa$vectors[, 1])\n",
       "\n",
       "Residuals:\n",
       "     Min       1Q   Median       3Q      Max \n",
       "-11.4990  -2.4511  -0.5112   2.2262  12.2439 \n",
       "\n",
       "Coefficients:\n",
       "                      Estimate Std. Error t value Pr(>|t|)    \n",
       "(Intercept)            13.2908     0.4179   31.80   <2e-16 ***\n",
       "com.pcoa$vectors[, 1] -29.2988     1.2948  -22.63   <2e-16 ***\n",
       "---\n",
       "Signif. codes:  0 ‘***’ 0.001 ‘**’ 0.01 ‘*’ 0.05 ‘.’ 0.1 ‘ ’ 1\n",
       "\n",
       "Residual standard error: 4.691 on 124 degrees of freedom\n",
       "Multiple R-squared:  0.805,\tAdjusted R-squared:  0.8035 \n",
       "F-statistic:   512 on 1 and 124 DF,  p-value: < 2.2e-16\n"
      ]
     },
     "metadata": {},
     "output_type": "display_data"
    }
   ],
   "source": [
    "## Linear relationship with temperature\n",
    "pT = cor.test(env.rel$T,com.pcoa$vectors[,1],method=\"pearson\",use = \"complete.obs\")\n",
    "\n",
    "pT\n",
    "\n",
    "lmT = lm(env.rel$T~com.pcoa$vectors[,1]) #Create the linear regression\n",
    "lmT.s = summary(lmT)\n",
    "\n",
    "lmT.s\n",
    "\n"
   ]
  },
  {
   "cell_type": "markdown",
   "id": "abbb266b",
   "metadata": {},
   "source": [
    "### Fig 1E -- Linear temperature relationship "
   ]
  },
  {
   "cell_type": "code",
   "execution_count": 18,
   "id": "51729b26",
   "metadata": {},
   "outputs": [
    {
     "name": "stderr",
     "output_type": "stream",
     "text": [
      "\u001b[1m\u001b[22m`geom_smooth()` using formula = 'y ~ x'\n",
      "Warning message:\n",
      "“\u001b[1m\u001b[22mRemoved 23 rows containing non-finite outside the scale range (`stat_smooth()`).”\n",
      "Warning message:\n",
      "“\u001b[1m\u001b[22mRemoved 23 rows containing missing values or values outside the scale range (`geom_point()`).”\n"
     ]
    },
    {
     "data": {
      "image/png": "[encoded data removed]",
      "text/plain": [
       "plot without title"
      ]
     },
     "metadata": {
      "image/png": {
       "height": 420,
       "width": 420
      }
     },
     "output_type": "display_data"
    }
   ],
   "source": [
    "## Linear relationship with temperature\n",
    "pT = cor.test(env.rel$T,com.pcoa$vectors[,1],method=\"pearson\",use = \"complete.obs\")\n",
    "\n",
    "lmT = lm(env.rel$T~com.pcoa$vectors[,1]) #Create the linear regression\n",
    "lmT.s = summary(lmT)\n",
    "\n",
    "## Fig 1E\n",
    "f1E.relaT <- ggplot(com.pcoa.data, aes(Temperature, X))\n",
    "f1E.relaT <- f1E.relaT +  \n",
    "  geom_smooth(data = com.pcoa.data,method = \"lm\",\n",
    "              se = TRUE,inherit.aes = TRUE,\n",
    "              color=\"black\")+\n",
    "  geom_point(aes(fill = Biome), shape = 21, colour=\"black\", size=3) + scale_shape_identity()+\n",
    "  scale_color_manual(values=colvec)+\n",
    "  scale_fill_manual(values=colvec)+\n",
    "  theme_classic()+\n",
    "  theme(legend.position = \"none\",axis.title.x = element_text(size = 16),\n",
    "    axis.title.y = element_text(size = 16),\n",
    "    axis.text = element_text(size = 16))+\n",
    "  scale_y_continuous(limits = c(-0.4, 0.55), expand = c(0,0))+\n",
    "  scale_x_continuous(limits = c(-2, 32),expand=c(0,0))+\n",
    "  labs(x=\"Temperature (\\u00B0C)\",y=\"PCO1 (25.77%)\")\n",
    "\n",
    "#+\n",
    "  #annotate(x=20, y=0.5, geom=\"text\",parse = TRUE,\n",
    "  #         label=expression(paste(\"Pearson's \",italic(\"r\"),\" = - 0.9, \",italic(\"p\"),\"-value = 2E-16\")),\n",
    "  #         color=\"black\")+\n",
    "  #annotate(x=14.45, y=0.47, geom=\"text\",parse = TRUE,\n",
    "  #       label=paste(\"R^2 == 0.8\"),\n",
    "  #       color=\"black\")\n",
    "\n",
    "f1E.relaT"
   ]
  },
  {
   "cell_type": "markdown",
   "id": "17ac414f",
   "metadata": {},
   "source": [
    "### Figure 1 assembly and cleaning"
   ]
  },
  {
   "cell_type": "code",
   "execution_count": 110,
   "id": "09a63b07",
   "metadata": {},
   "outputs": [
    {
     "name": "stderr",
     "output_type": "stream",
     "text": [
      "Warning message:\n",
      "“\u001b[1m\u001b[22mUse of `df_totMpV$MpV` is discouraged.\n",
      "\u001b[36mℹ\u001b[39m Use `MpV` instead.”\n",
      "\u001b[1m\u001b[22m`geom_smooth()` using formula = 'y ~ x'\n",
      "Warning message:\n",
      "“\u001b[1m\u001b[22mRemoved 23 rows containing non-finite outside the scale range (`stat_smooth()`).”\n",
      "Warning message:\n",
      "“\u001b[1m\u001b[22mRemoved 23 rows containing missing values or values outside the scale range (`geom_point()`).”\n"
     ]
    },
    {
     "data": {
      "text/html": [
       "<strong>pdf:</strong> 2"
      ],
      "text/latex": [
       "\\textbf{pdf:} 2"
      ],
      "text/markdown": [
       "**pdf:** 2"
      ],
      "text/plain": [
       "pdf \n",
       "  2 "
      ]
     },
     "metadata": {},
     "output_type": "display_data"
    }
   ],
   "source": [
    "pdf(file=\"./figures/Figure1_raw_13092024.pdf\",\n",
    "    width = 10, height = 15, # Width and height in inches\n",
    "    bg = \"white\",            # Background color\n",
    "    colormodel = \"rgb\",      # Color model (cmyk is required for most publications)\n",
    "    paper = \"USr\")           # Paper size\n",
    "\n",
    "pushViewport(viewport(layout = grid.layout(3, 2)))\n",
    "vplayout <- function(x, y) viewport(layout.pos.row = x, layout.pos.col = y)\n",
    "print(f1A.map, vp = vplayout(1, 1))\n",
    "print(f1B.relAb, vp = vplayout(2, 1))\n",
    "print(f1C.pcoa, vp = vplayout(2, 2))\n",
    "print(f1D.rela, vp = vplayout(3, 1))\n",
    "print(f1E.relaT, vp = vplayout(3, 2))\n",
    "\n",
    "dev.off()\n",
    "\n",
    "# Note: The final figure has been modified using adobe illustrator to easily add legends + anotations "
   ]
  },
  {
   "cell_type": "code",
   "execution_count": null,
   "id": "d329136a",
   "metadata": {},
   "outputs": [],
   "source": []
  },
  {
   "cell_type": "code",
   "execution_count": null,
   "id": "351df3ef",
   "metadata": {},
   "outputs": [],
   "source": []
  },
  {
   "cell_type": "code",
   "execution_count": null,
   "id": "9e5e77fe",
   "metadata": {},
   "outputs": [],
   "source": []
  }
 ],
 "metadata": {
  "kernelspec": {
   "display_name": "R",
   "language": "R",
   "name": "ir"
  },
  "language_info": {
   "codemirror_mode": "r",
   "file_extension": ".r",
   "mimetype": "text/x-r-source",
   "name": "R",
   "pygments_lexer": "r",
   "version": "4.2.3"
  }
 },
 "nbformat": 4,
 "nbformat_minor": 5
}
