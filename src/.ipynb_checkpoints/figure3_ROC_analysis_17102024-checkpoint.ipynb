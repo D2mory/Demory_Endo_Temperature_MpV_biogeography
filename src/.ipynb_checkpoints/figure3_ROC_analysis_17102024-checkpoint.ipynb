{
 "cells": [
  {
   "cell_type": "markdown",
   "id": "e5c1d5f3",
   "metadata": {},
   "source": [
    "## TARA MpV Temperature\n",
    "## Figure 3\n",
    "### Diversity and host-virus distribution relationships\n",
    "**David Demory -- 20 Feb. 2024**"
   ]
  },
  {
   "cell_type": "markdown",
   "id": "f9e946ad",
   "metadata": {},
   "source": [
    "### Setup environments"
   ]
  },
  {
   "cell_type": "code",
   "execution_count": 1,
   "id": "6171048b",
   "metadata": {},
   "outputs": [
    {
     "data": {
      "text/html": [
       "'/Users/daviddemory/My Drive/CNRS/research/Hiro_collaboration_Micromonas_Virus_Temperature_TARA/Demory&amp;Endo_TARA_MpV_Temperature'"
      ],
      "text/latex": [
       "'/Users/daviddemory/My Drive/CNRS/research/Hiro\\_collaboration\\_Micromonas\\_Virus\\_Temperature\\_TARA/Demory\\&Endo\\_TARA\\_MpV\\_Temperature'"
      ],
      "text/markdown": [
       "'/Users/daviddemory/My Drive/CNRS/research/Hiro_collaboration_Micromonas_Virus_Temperature_TARA/Demory&amp;Endo_TARA_MpV_Temperature'"
      ],
      "text/plain": [
       "[1] \"/Users/daviddemory/My Drive/CNRS/research/Hiro_collaboration_Micromonas_Virus_Temperature_TARA/Demory&Endo_TARA_MpV_Temperature\""
      ]
     },
     "metadata": {},
     "output_type": "display_data"
    }
   ],
   "source": [
    "## Workspace\n",
    "rm(list = ls())\n",
    "workdir = \"~/Google Drive/My Drive/CNRS/research/Hiro_collaboration_Micromonas_Virus_Temperature_TARA/Demory&Endo_TARA_MpV_Temperature\"\n",
    "setwd(workdir)\n",
    "getwd()"
   ]
  },
  {
   "cell_type": "code",
   "execution_count": 2,
   "id": "de7c7bf5",
   "metadata": {
    "scrolled": true
   },
   "outputs": [
    {
     "name": "stderr",
     "output_type": "stream",
     "text": [
      "\n",
      "Attachement du package : ‘dplyr’\n",
      "\n",
      "\n",
      "Les objets suivants sont masqués depuis ‘package:stats’:\n",
      "\n",
      "    filter, lag\n",
      "\n",
      "\n",
      "Les objets suivants sont masqués depuis ‘package:base’:\n",
      "\n",
      "    intersect, setdiff, setequal, union\n",
      "\n",
      "\n"
     ]
    },
    {
     "ename": "ERROR",
     "evalue": "Error in library(BiodiversityR): aucun package nommé ‘BiodiversityR’ n'est trouvé\n",
     "output_type": "error",
     "traceback": [
      "Error in library(BiodiversityR): aucun package nommé ‘BiodiversityR’ n'est trouvé\nTraceback:\n",
      "1. library(BiodiversityR)"
     ]
    }
   ],
   "source": [
    "## load libraries\n",
    "library(ggplot2)\n",
    "library(dplyr)\n",
    "library(reshape2)\n",
    "library(BiodiversityR)\n",
    "\n",
    "#install.packages(\"BiodiversityR\")"
   ]
  },
  {
   "cell_type": "code",
   "execution_count": 5,
   "id": "dba8ca68",
   "metadata": {},
   "outputs": [],
   "source": [
    "## Load viral \"OTU\" information datasets\n",
    "info.V <- read.csv(\"./data/processed/Info_Virus.txt\", sep=\"\")\n",
    "#head(info.V)"
   ]
  },
  {
   "cell_type": "code",
   "execution_count": 6,
   "id": "4ac280d7",
   "metadata": {},
   "outputs": [],
   "source": [
    "## Load viral and Mic TARA dataset\n",
    "TARA.V <- read.delim(\"./data/raw/env_mpv_select_stdz.txt\",header=TRUE)\n",
    "TARA.V <- na.omit(TARA.V)\n",
    "#head(TARA.V)\n",
    "\n",
    "TARA.Mic <- read.delim(\"./data/raw/env_ncldv_eupho_df_mpv.txt\",header=TRUE)\n",
    "TARA.Mic <- na.omit(TARA.Mic)"
   ]
  },
  {
   "cell_type": "code",
   "execution_count": 7,
   "id": "a52401b9",
   "metadata": {},
   "outputs": [],
   "source": [
    "## Load virus groups frequency tables\n",
    "## Major Clades \n",
    "MpV.A <- read.csv(\"./data/raw/EPA_MpV/Major_clades/df_MicV_A_merge_stdz.txt\", sep=\"\")\n",
    "com.A <- MpV.A[17:ncol(MpV.A)]\n",
    "totcom.A <- rowSums(com.A)\n",
    "\n",
    "MpV.C <- read.csv(\"./data/raw/EPA_MpV/Major_clades/df_MicV_C_merge_stdz.txt\", sep=\"\")\n",
    "com.C <- MpV.C[17:ncol(MpV.C)]\n",
    "totcom.C <- rowSums(com.C)\n",
    "\n",
    "MpV.B <- read.csv(\"./data/raw/EPA_MpV/Major_clades/df_MicV_B_merge_stdz.txt\", sep=\"\")\n",
    "com.B <- MpV.B[17:ncol(MpV.B)]\n",
    "totcom.B <- rowSums(com.B)\n",
    "\n",
    "MpV.Pol <- read.csv(\"./data/raw/EPA_MpV/Major_clades/df_MicV_Pol_merge_stdz.txt\", sep=\"\")\n",
    "com.Pol <- MpV.Pol[17:ncol(MpV.Pol)]\n",
    "totcom.Pol <- rowSums(com.Pol)\n",
    "\n",
    "## Minor Clades\n",
    "MpV.A1 <- read.csv(\"./data/raw/EPA_MpV/Minor_clades/df_MicV_A1_merge_stdz.txt\", sep=\"\")\n",
    "com.A1 <- MpV.A1[17:ncol(MpV.A1)]\n",
    "totcom.A1 <- rowSums(com.A1)\n",
    "\n",
    "MpV.A2 <- read.csv(\"./data/raw/EPA_MpV/Minor_clades/df_MicV_A2_merge_stdz.txt\", sep=\"\")\n",
    "com.A2 <- MpV.A2[17:ncol(MpV.A2)]\n",
    "totcom.A2 <- rowSums(com.A2)\n",
    "\n",
    "MpV.Pol1 <- read.csv(\"./data/raw/EPA_MpV/Minor_clades/df_MicV_Pol1_merge_stdz.txt\", sep=\"\")\n",
    "com.Pol1 <- MpV.Pol1[17:ncol(MpV.Pol1)]\n",
    "totcom.Pol1 <- rowSums(com.Pol1)\n",
    "\n",
    "MpV.Pol2 <- read.csv(\"./data/raw/EPA_MpV/Minor_clades/df_MicV_Pol2_merge_stdz.txt\", sep=\"\")\n",
    "com.Pol2 <- MpV.Pol2[17:ncol(MpV.Pol2)]\n",
    "totcom.Pol2 <- rowSums(com.Pol2)\n",
    "\n",
    "MpV.B1 <- read.csv(\"./data/raw/EPA_MpV/Minor_clades/df_MicV_B1_merge_stdz.txt\", sep=\"\")\n",
    "com.B1 <- MpV.B1[17:ncol(MpV.B1)]\n",
    "totcom.B1 <- rowSums(com.B1)\n",
    "\n",
    "MpV.B2 <- read.csv(\"./data/raw/EPA_MpV/Minor_clades/df_MicV_B2_merge_stdz.txt\", sep=\"\")\n",
    "com.B2 <- MpV.B2[17:ncol(MpV.B2)]\n",
    "totcom.B2 <- rowSums(com.B2)"
   ]
  },
  {
   "cell_type": "code",
   "execution_count": 8,
   "id": "79762e13",
   "metadata": {},
   "outputs": [],
   "source": [
    "## Load Host groups frequency tables\n",
    "# Thermotypes\n",
    "Mic.A1 <- read.csv(\"./data/raw/EPA_Mic/MicA2_df_total.txt\", sep=\"\")\n",
    "#Mic.A1\n",
    "\n",
    "#cols <- c('station','depth')\n",
    "#Mic.A1$ids <- apply( Mic.A1[ , cols ] , 1 , paste , collapse = \"_\" )\n",
    "\n",
    "\n",
    "#length(Mic.A1$ids)\n",
    "#length(TARA.V$Sample)\n",
    "\n",
    "\n",
    "#Mic.A1 <- Mic.A1[Mic.A1$ids %in% TARA.V$Sample,]\n",
    "#length(Mic.A1)\n",
    "#length(TARA.Mic$Temperature[TARA.Mic$Sample %in% Mic.A1$ids])\n",
    "\n",
    "\n",
    "#Mic.A1$Temperature <- TARA.V$Temperature[Mic.A1$ids %in% TARA.V$Sample]\n",
    "#length(unique(Mic.A1$ids))\n",
    "#dim(Mic.A1)\n",
    "#length(TARA.Mic$Temperature[TARA.Mic$Sample %in% Mic.A1$ids])\n",
    "#Mic.A1$ids[Mic.A1$ids %in% TARA.Mic$Sample]\n",
    "#Mic.A1$ids\n",
    "\n",
    "#Mic.A1 <- Mic.A1[Mic.A1$ids %in% TARA.V$Sample,]\n",
    "#Mic.A1$Temperature <- TARA.V$Temperature[Mic.A1$ids %in% TARA.V$Sample]\n",
    "\n",
    "#length(TARA.V$Temperature[Mic.A1$ids %in% TARA.V$Sample])\n",
    "#dim(Mic.A1)\n"
   ]
  },
  {
   "cell_type": "markdown",
   "id": "859f8f5a",
   "metadata": {},
   "source": [
    "### Calculate Diversity "
   ]
  }
 ],
 "metadata": {
  "kernelspec": {
   "display_name": "R",
   "language": "R",
   "name": "ir"
  },
  "language_info": {
   "codemirror_mode": "r",
   "file_extension": ".r",
   "mimetype": "text/x-r-source",
   "name": "R",
   "pygments_lexer": "r",
   "version": "4.2.3"
  }
 },
 "nbformat": 4,
 "nbformat_minor": 5
}
