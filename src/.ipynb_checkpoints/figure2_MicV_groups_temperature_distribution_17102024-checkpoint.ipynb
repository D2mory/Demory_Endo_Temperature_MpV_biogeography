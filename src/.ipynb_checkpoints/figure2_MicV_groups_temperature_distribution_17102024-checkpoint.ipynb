{
 "cells": [
  {
   "cell_type": "markdown",
   "id": "6c577fc1",
   "metadata": {},
   "source": [
    "# TARA MicV Temperature\n",
    "## Figure 2\n",
    "#### Phylogeny and Thermal groups \n",
    "**David Demory & Hisashi Endo -- 17 Oct. 2024**"
   ]
  },
  {
   "cell_type": "markdown",
   "id": "1742be49",
   "metadata": {},
   "source": [
    "### Set up environments and load datasets"
   ]
  },
  {
   "cell_type": "code",
   "execution_count": 12,
   "id": "c6ebfa1c",
   "metadata": {},
   "outputs": [
    {
     "data": {
      "text/html": [
       "'/Users/daviddemory/My Drive/CNRS/research/Hiro_collaboration_Micromonas_Virus_Temperature_TARA/DEMORY_ENDO_MpV_biogeography_2024/Demory_Endo_Temperature_MpV_biogeography'"
      ],
      "text/latex": [
       "'/Users/daviddemory/My Drive/CNRS/research/Hiro\\_collaboration\\_Micromonas\\_Virus\\_Temperature\\_TARA/DEMORY\\_ENDO\\_MpV\\_biogeography\\_2024/Demory\\_Endo\\_Temperature\\_MpV\\_biogeography'"
      ],
      "text/markdown": [
       "'/Users/daviddemory/My Drive/CNRS/research/Hiro_collaboration_Micromonas_Virus_Temperature_TARA/DEMORY_ENDO_MpV_biogeography_2024/Demory_Endo_Temperature_MpV_biogeography'"
      ],
      "text/plain": [
       "[1] \"/Users/daviddemory/My Drive/CNRS/research/Hiro_collaboration_Micromonas_Virus_Temperature_TARA/DEMORY_ENDO_MpV_biogeography_2024/Demory_Endo_Temperature_MpV_biogeography\""
      ]
     },
     "metadata": {},
     "output_type": "display_data"
    }
   ],
   "source": [
    "## Workspace\n",
    "rm(list = ls())\n",
    "workdir = \"../\" #set your path to the folder \"Demory_Endo_Temperature_MicV_biogeography\"\n",
    "setwd(workdir)\n",
    "getwd()"
   ]
  },
  {
   "cell_type": "code",
   "execution_count": 24,
   "id": "b8624bb7",
   "metadata": {},
   "outputs": [],
   "source": [
    "## libraries\n",
    "library(ggplot2)\n",
    "library(viridis)\n",
    "library(vegan)\n",
    "library(ape)\n",
    "library(dplyr)\n",
    "library(reshape2)\n",
    "library(ggExtra)\n",
    "library(magrittr)\n",
    "library(RColorBrewer)\n",
    "library(pryr)\n",
    "library(readr)"
   ]
  },
  {
   "cell_type": "markdown",
   "id": "1e019560",
   "metadata": {},
   "source": [
    "### Load Frequency tables"
   ]
  },
  {
   "cell_type": "code",
   "execution_count": 25,
   "id": "019079f7",
   "metadata": {},
   "outputs": [],
   "source": [
    "## Major Clades \n",
    "MicV.A <- read.csv(\"./data/df_MicV_A_merge_stdz.txt\", sep=\"\")\n",
    "com.A <- MicV.A[17:ncol(MicV.A)]\n",
    "totcom.A <- rowSums(com.A)\n",
    "\n",
    "MicV.C <- read.csv(\"./data/df_MicV_C_merge_stdz.txt\", sep=\"\")\n",
    "com.C <- MicV.C[17:ncol(MicV.C)]\n",
    "totcom.C <- rowSums(com.C)\n",
    "\n",
    "MicV.B <- read.csv(\"./data/df_MicV_B_merge_stdz.txt\", sep=\"\")\n",
    "com.B <- MicV.B[17:ncol(MicV.B)]\n",
    "totcom.B <- rowSums(com.B)\n",
    "\n",
    "MicV.Pol <- read.csv(\"./data/df_MicV_Pol_merge_stdz.txt\", sep=\"\")\n",
    "com.Pol <- MicV.Pol[17:ncol(MicV.Pol)]\n",
    "totcom.Pol <- rowSums(com.Pol)\n",
    "\n",
    "## Minor Clades\n",
    "MicV.A1 <- read.csv(\"./data/df_MicV_A1_merge_stdz.txt\", sep=\"\")\n",
    "com.A1 <- MicV.A1[17:ncol(MicV.A1)]\n",
    "totcom.A1 <- rowSums(com.A1)\n",
    "\n",
    "MicV.A2 <- read.csv(\"./data/df_MicV_A2_merge_stdz.txt\", sep=\"\")\n",
    "com.A2 <- MicV.A2[17:ncol(MicV.A2)]\n",
    "totcom.A2 <- rowSums(com.A2)\n",
    "\n",
    "MicV.Pol1 <- read.csv(\"./data/df_MicV_Pol1_merge_stdz.txt\", sep=\"\")\n",
    "com.Pol1 <- MicV.Pol1[17:ncol(MicV.Pol1)]\n",
    "totcom.Pol1 <- rowSums(com.Pol1)\n",
    "\n",
    "MicV.Pol2 <- read.csv(\"./data/df_MicV_Pol2_merge_stdz.txt\", sep=\"\")\n",
    "com.Pol2 <- MicV.Pol2[17:ncol(MicV.Pol2)]\n",
    "totcom.Pol2 <- rowSums(com.Pol2)\n",
    "\n",
    "MicV.B1 <- read.csv(\"./data/df_MicV_B1_merge_stdz.txt\", sep=\"\")\n",
    "com.B1 <- MicV.B1[17:ncol(MicV.B1)]\n",
    "totcom.B1 <- rowSums(com.B1)\n",
    "\n",
    "MicV.B2 <- read.csv(\"./data/df_MicV_B2_merge_stdz.txt\", sep=\"\")\n",
    "com.B2 <- MicV.B2[17:ncol(MicV.B2)]\n",
    "totcom.B2 <- rowSums(com.B2)"
   ]
  },
  {
   "cell_type": "code",
   "execution_count": 27,
   "id": "bbe1a97a",
   "metadata": {},
   "outputs": [
    {
     "data": {
      "text/html": [
       "<table class=\"dataframe\">\n",
       "<caption>A data.frame: 6 × 7</caption>\n",
       "<thead>\n",
       "\t<tr><th></th><th scope=col>A1</th><th scope=col>A2</th><th scope=col>B1</th><th scope=col>B2</th><th scope=col>C</th><th scope=col>Pol1</th><th scope=col>Pol2</th></tr>\n",
       "\t<tr><th></th><th scope=col>&lt;dbl&gt;</th><th scope=col>&lt;dbl&gt;</th><th scope=col>&lt;dbl&gt;</th><th scope=col>&lt;dbl&gt;</th><th scope=col>&lt;dbl&gt;</th><th scope=col>&lt;dbl&gt;</th><th scope=col>&lt;dbl&gt;</th></tr>\n",
       "</thead>\n",
       "<tbody>\n",
       "\t<tr><th scope=row>1</th><td>0.0000000</td><td>1.0000000</td><td>0</td><td>0</td><td>0</td><td>0.00000000</td><td>0</td></tr>\n",
       "\t<tr><th scope=row>2</th><td>0.0000000</td><td>1.0000000</td><td>0</td><td>0</td><td>0</td><td>0.00000000</td><td>0</td></tr>\n",
       "\t<tr><th scope=row>3</th><td>0.4736392</td><td>0.5163483</td><td>0</td><td>0</td><td>0</td><td>0.01001255</td><td>0</td></tr>\n",
       "\t<tr><th scope=row>4</th><td>0.2280675</td><td>0.7719325</td><td>0</td><td>0</td><td>0</td><td>0.00000000</td><td>0</td></tr>\n",
       "\t<tr><th scope=row>5</th><td>0.4691672</td><td>0.5308328</td><td>0</td><td>0</td><td>0</td><td>0.00000000</td><td>0</td></tr>\n",
       "\t<tr><th scope=row>6</th><td>0.0000000</td><td>1.0000000</td><td>0</td><td>0</td><td>0</td><td>0.00000000</td><td>0</td></tr>\n",
       "</tbody>\n",
       "</table>\n"
      ],
      "text/latex": [
       "A data.frame: 6 × 7\n",
       "\\begin{tabular}{r|lllllll}\n",
       "  & A1 & A2 & B1 & B2 & C & Pol1 & Pol2\\\\\n",
       "  & <dbl> & <dbl> & <dbl> & <dbl> & <dbl> & <dbl> & <dbl>\\\\\n",
       "\\hline\n",
       "\t1 & 0.0000000 & 1.0000000 & 0 & 0 & 0 & 0.00000000 & 0\\\\\n",
       "\t2 & 0.0000000 & 1.0000000 & 0 & 0 & 0 & 0.00000000 & 0\\\\\n",
       "\t3 & 0.4736392 & 0.5163483 & 0 & 0 & 0 & 0.01001255 & 0\\\\\n",
       "\t4 & 0.2280675 & 0.7719325 & 0 & 0 & 0 & 0.00000000 & 0\\\\\n",
       "\t5 & 0.4691672 & 0.5308328 & 0 & 0 & 0 & 0.00000000 & 0\\\\\n",
       "\t6 & 0.0000000 & 1.0000000 & 0 & 0 & 0 & 0.00000000 & 0\\\\\n",
       "\\end{tabular}\n"
      ],
      "text/markdown": [
       "\n",
       "A data.frame: 6 × 7\n",
       "\n",
       "| <!--/--> | A1 &lt;dbl&gt; | A2 &lt;dbl&gt; | B1 &lt;dbl&gt; | B2 &lt;dbl&gt; | C &lt;dbl&gt; | Pol1 &lt;dbl&gt; | Pol2 &lt;dbl&gt; |\n",
       "|---|---|---|---|---|---|---|---|\n",
       "| 1 | 0.0000000 | 1.0000000 | 0 | 0 | 0 | 0.00000000 | 0 |\n",
       "| 2 | 0.0000000 | 1.0000000 | 0 | 0 | 0 | 0.00000000 | 0 |\n",
       "| 3 | 0.4736392 | 0.5163483 | 0 | 0 | 0 | 0.01001255 | 0 |\n",
       "| 4 | 0.2280675 | 0.7719325 | 0 | 0 | 0 | 0.00000000 | 0 |\n",
       "| 5 | 0.4691672 | 0.5308328 | 0 | 0 | 0 | 0.00000000 | 0 |\n",
       "| 6 | 0.0000000 | 1.0000000 | 0 | 0 | 0 | 0.00000000 | 0 |\n",
       "\n"
      ],
      "text/plain": [
       "  A1        A2        B1 B2 C Pol1       Pol2\n",
       "1 0.0000000 1.0000000 0  0  0 0.00000000 0   \n",
       "2 0.0000000 1.0000000 0  0  0 0.00000000 0   \n",
       "3 0.4736392 0.5163483 0  0  0 0.01001255 0   \n",
       "4 0.2280675 0.7719325 0  0  0 0.00000000 0   \n",
       "5 0.4691672 0.5308328 0  0  0 0.00000000 0   \n",
       "6 0.0000000 1.0000000 0  0  0 0.00000000 0   "
      ]
     },
     "metadata": {},
     "output_type": "display_data"
    }
   ],
   "source": [
    "## Create community matrix (Presence/Abscence)\n",
    "x = 0.0\n",
    "\n",
    "T <- MicV.Pol1$Temperature[totcom.Pol1>x]\n",
    "L <- MicV.Pol1$ChlorophyllA[totcom.Pol1>x]\n",
    "df.Pol1 <- data.frame(\"totfreq\"=totcom.Pol1[totcom.Pol1>x],\"Temperature\"=T,\"ChlorophyllA\"=L,'Clade'=\"Pol1\")\n",
    "\n",
    "T <- MicV.Pol2$Temperature[totcom.Pol2>x]\n",
    "L <- MicV.Pol2$ChlorophyllA[totcom.Pol2>x]\n",
    "df.Pol2 <- data.frame(\"totfreq\"=totcom.Pol2[totcom.Pol2>x],\"Temperature\"=T,\"ChlorophyllA\"=L,'Clade'=\"Pol2\")\n",
    "\n",
    "T <- MicV.A1$Temperature[totcom.A1>x]\n",
    "L <- MicV.A1$ChlorophyllA[totcom.A1>x]\n",
    "df.A1 <- data.frame(\"totfreq\"=totcom.A1[totcom.A1>x],\"Temperature\"=T,\"ChlorophyllA\"=L,'Clade'=\"A1\")\n",
    "\n",
    "T <- MicV.A2$Temperature[totcom.A2>x]\n",
    "L <- MicV.A2$ChlorophyllA[totcom.A2>x]\n",
    "df.A2 <- data.frame(\"totfreq\"=totcom.A2[totcom.A2>x],\"Temperature\"=T,\"ChlorophyllA\"=L,'Clade'=\"A2\")\n",
    "\n",
    "T <- MicV.B1$Temperature[totcom.B1>x]\n",
    "L <- MicV.B1$ChlorophyllA[totcom.B1>x]\n",
    "df.B1 <- data.frame(\"totfreq\"=totcom.B1[totcom.B1>x],\"Temperature\"=T,\"ChlorophyllA\"=L,'Clade'=\"B1\")\n",
    "\n",
    "T <- MicV.B2$Temperature[totcom.B2>x]\n",
    "L <- MicV.B2$ChlorophyllA[totcom.B2>x]\n",
    "df.B2 <- data.frame(\"totfreq\"=totcom.B2[totcom.B2>x],\"Temperature\"=T,\"ChlorophyllA\"=L,'Clade'=\"B2\")\n",
    "\n",
    "T <- MicV.C$Temperature[totcom.C>x]\n",
    "L <- MicV.C$ChlorophyllA[totcom.C>x]\n",
    "df.C <- data.frame(\"totfreq\"=totcom.C[totcom.C>x],\"Temperature\"=T,\"ChlorophyllA\"=L,'Clade'=\"C\")\n",
    "\n",
    "# Major Clade df\n",
    "df.Pol <- rbind(df.Pol1, df.Pol2)\n",
    "df.A   <- rbind(df.A1, df.A2)\n",
    "df.B   <- rbind(df.B1, df.B2)\n",
    "\n",
    "# Virus df\n",
    "df.MicV <- rbind(df.Pol,df.A,df.B,df.C)\n",
    "\n",
    "# Com matrix\n",
    "com <- data.frame(\"A1\"=totcom.A1,\"A2\"=totcom.A2,\"B1\"=totcom.B1,\n",
    "                  \"B2\"=totcom.B2,\"C\"=totcom.C,\"Pol1\"=totcom.Pol1,\n",
    "                  \"Pol2\"=totcom.Pol2)\n",
    "\n",
    "head(com)"
   ]
  },
  {
   "cell_type": "markdown",
   "id": "86628569",
   "metadata": {},
   "source": [
    "## Fig2b -- Relative Abundances"
   ]
  },
  {
   "cell_type": "code",
   "execution_count": 28,
   "id": "30cffbab",
   "metadata": {},
   "outputs": [
    {
     "name": "stderr",
     "output_type": "stream",
     "text": [
      "\u001b[1m\u001b[22m`summarise()` has grouped output by 'binCounts'. You can override using the `.groups` argument.\n"
     ]
    },
    {
     "data": {
      "text/html": [
       "<strong>pdf:</strong> 2"
      ],
      "text/latex": [
       "\\textbf{pdf:} 2"
      ],
      "text/markdown": [
       "**pdf:** 2"
      ],
      "text/plain": [
       "pdf \n",
       "  2 "
      ]
     },
     "metadata": {},
     "output_type": "display_data"
    }
   ],
   "source": [
    "mdf <- data.frame(\"Clade\"=df.MicV$Clade,\"freq\"=df.MicV$totfreq,\"Temperature\"=df.MicV$Temperature)\n",
    "mdf <- mdf[is.na(mdf$Temperature)==0,]\n",
    "\n",
    "mdf = mdf %>%\n",
    "  mutate(binCounts = cut(Temperature, breaks = seq(-2, 31, by = 2))) %>%\n",
    "  group_by(binCounts) %>%\n",
    "  mutate(sumVal = sum(freq)) %>%\n",
    "  ungroup() %>%\n",
    "  group_by(binCounts, Clade) %>%\n",
    "  summarise(prct = sum(freq)/mean(sumVal))\n",
    "\n",
    "pdf(file=\"./figures/figure2b_raw_17Oct2024.pdf\",\n",
    "    width = 5, height = 2, # Width and height in inches\n",
    "    bg = \"white\",            # Background color\n",
    "    colormodel = \"rgb\",      # Color model (cmyk is required for most publications)\n",
    "    paper = \"USr\")           # Paper size\n",
    "\n",
    "fig2b = ggplot(mdf) +\n",
    "    geom_bar(aes(x=binCounts, y=prct, fill=Clade), stat=\"identity\") +\n",
    "    theme(axis.text.x=element_text(angle = 90, hjust=1))+\n",
    "    xlab(\"Temperature\") +\n",
    "    ylab(\"Relative frequency\") +\n",
    "    guides(col=guide_legend(\"Thermal groups\"),\n",
    "           fill=guide_legend(\"Thermal groups\"))+\n",
    "    scale_x_discrete(labels=c(\"<0\",\"0\",\"2\",\"4\",\n",
    "                             \"6\",\"8\",\"10\",\"12\",\n",
    "                             \"14\",\"16\",\"18\",\"20\",\n",
    "                             \"22\",\"24\",\"26\",\">28\"))+\n",
    "    scale_y_continuous(expand = c(0, 0)) +\n",
    "theme_classic() + theme(\n",
    "        axis.text.x = element_text(size = 10, angle=25),\n",
    "        axis.title.x = element_text(size = 12),\n",
    "        axis.title.y = element_text(size = 12),\n",
    "        axis.text.y = element_text(size = 10),\n",
    "        legend.title = element_text(size = 12),\n",
    "        legend.text = element_text(size = 12))\n",
    "        #legend.position = c(1.2, 0.8))\n",
    "fig2b\n",
    "dev.off()"
   ]
  },
  {
   "cell_type": "markdown",
   "id": "bb78d450-7713-41bd-9071-3e367136edf9",
   "metadata": {},
   "source": [
    "## Fig2c -- Temperatire boxplots"
   ]
  },
  {
   "cell_type": "code",
   "execution_count": 29,
   "id": "fb33c0a0-18ce-4927-bb58-f2a49e740fb0",
   "metadata": {},
   "outputs": [],
   "source": [
    "# Load MicV thermotype\n",
    "thermotype_list2 <-  read_tsv(\"./data/thermotype_list.txt\", col_names = TRUE, show_col_types = FALSE)\n",
    "colnames(thermotype_list2)[1] <- c(\"ids\")\n",
    "\n",
    "# Load id-clade table\n",
    "MicV_total_ids_clades <-  read_tsv(\"./data/MicV_total_ids_clades.txt\", col_names = TRUE, show_col_types = FALSE)\n",
    "\n",
    "# Merge dfs\n",
    "clade_thermo_df <- left_join(thermotype_list2, MicV_total_ids_clades, by = \"ids\")\n",
    "\n",
    "# Colors of A1, A2, B1, B2, C, Pol1, Pol2 for paper\n",
    "col_subclade  <- c('#F8766D', '#C49A00', '#53B400', '#00C094', '#00B6EB', '#A58AFF', '#FB61D7')\n",
    "\n",
    "\n",
    "# Box plot for each subclade\n",
    "boxp1 <- ggplot(clade_thermo_df, aes(x=subclade, y=opt_temp, fill=subclade)) +\n",
    "  geom_boxplot(coef=20, alpha=0.4) + # Change whiskers length for min to max.\n",
    "  theme_bw() + \n",
    "  #scale_color_manual(breaks = c(\"Intra-genus\", \"Inter-genus\"), values = col_tax) + \n",
    "  scale_fill_manual(values = col_subclade) +\n",
    "  scale_y_continuous(limits = c(-5, 30)) +\n",
    "  theme(axis.text.x = element_text(angle = -90, hjust = 0)) +\n",
    "  geom_jitter(aes(color = subclade), width=0.15, shape=19, size =0.8, alpha=1) +\n",
    "  scale_color_manual(values = col_subclade) +\n",
    "  stat_summary(fun = \"mean\", geom = \"point\", shape = 21, size = 3, fill = \"white\") +\n",
    "  ylab(\"Optimal temperature\") + xlab(\"MicV Subclade\")\n",
    "ggsave(filename = \"./figures/figure2c_05Dec2024.pdf\", plot= boxp1, width=120, height=90, units=\"mm\", dpi = 300)"
   ]
  },
  {
   "cell_type": "markdown",
   "id": "edf5ff3f",
   "metadata": {},
   "source": [
    "## Fig2d-- Plot Chla vs. T "
   ]
  },
  {
   "cell_type": "code",
   "execution_count": 30,
   "id": "1ff9bf69",
   "metadata": {},
   "outputs": [
    {
     "name": "stderr",
     "output_type": "stream",
     "text": [
      "\u001b[1m\u001b[22mScale for \u001b[32mx\u001b[39m is already present.\n",
      "Adding another scale for \u001b[32mx\u001b[39m, which will replace the existing scale.\n",
      "Warning message:\n",
      "“\u001b[1m\u001b[22mRemoved 4 rows containing non-finite outside the scale range (`stat_ellipse()`).”\n",
      "Warning message:\n",
      "“\u001b[1m\u001b[22mRemoved 4 rows containing non-finite outside the scale range (`stat_ellipse()`).”\n",
      "Warning message:\n",
      "“\u001b[1m\u001b[22mRemoved 4 rows containing non-finite outside the scale range (`stat_ellipse()`).”\n",
      "Warning message:\n",
      "“\u001b[1m\u001b[22mRemoved 4 rows containing non-finite outside the scale range (`stat_ellipse()`).”\n",
      "Warning message:\n",
      "“\u001b[1m\u001b[22mRemoved 4 rows containing missing values or values outside the scale range (`geom_point()`).”\n"
     ]
    },
    {
     "data": {
      "text/html": [
       "<strong>pdf:</strong> 2"
      ],
      "text/latex": [
       "\\textbf{pdf:} 2"
      ],
      "text/markdown": [
       "**pdf:** 2"
      ],
      "text/plain": [
       "pdf \n",
       "  2 "
      ]
     },
     "metadata": {},
     "output_type": "display_data"
    }
   ],
   "source": [
    "pdf(file=\"./figures/figure2d_raw_17Oct2024.pdf\",\n",
    "    width = 5, height = 5, # Width and height in inches\n",
    "    bg = \"white\",            # Background color\n",
    "    colormodel = \"rgb\",      # Color model (cmyk is required for most publications)\n",
    "    paper = \"USr\")           # Paper size\n",
    "\n",
    "\n",
    "#test = df.MicV[df.MicV$Clade==\"C\",]\n",
    "\n",
    "fig2d <- ggplot(df.MicV, aes(x=Temperature, y=ChlorophyllA, color=Clade,fill=Clade)) + theme_classic()+\n",
    "    stat_ellipse(type=\"t\", level = 0.95,geom=\"polygon\",alpha=0.1,lwd=1)+\n",
    "    stat_ellipse(type=\"t\", level = 0.99,geom=\"polygon\",alpha=0.05,lwd=1,linetype = \"dotted\")+\n",
    "    geom_point(size=2,alpha=0.3)+    \n",
    "    theme_classic() + theme(\n",
    "        axis.text.x = element_text(face = \"bold\", size = 16),\n",
    "        axis.title.x = element_text(face = \"bold\", size = 16),\n",
    "        axis.title.y = element_text(face = \"bold\", size = 16),\n",
    "        axis.text.y = element_text(face = \"bold\", size = 16),\n",
    "        legend.title = element_text(face = \"bold\", size = 16),\n",
    "        legend.text = element_text(face = \"bold\", size = 16)) +\n",
    "    xlim(-20, 50) + scale_x_continuous(breaks = seq(-20, 50, by = 10)) +\n",
    "    ylim(-1, 3)   #+ scale_y_continuous(breaks = seq(-1, 3, by = 2))\n",
    "\n",
    "ggMarginal(fig2d, type=\"density\",groupFill = TRUE, groupColour = TRUE,alpha=0.1,lwd=1)\n",
    "dev.off()"
   ]
  }
 ],
 "metadata": {
  "kernelspec": {
   "display_name": "R",
   "language": "R",
   "name": "ir"
  },
  "language_info": {
   "codemirror_mode": "r",
   "file_extension": ".r",
   "mimetype": "text/x-r-source",
   "name": "R",
   "pygments_lexer": "r",
   "version": "4.2.3"
  }
 },
 "nbformat": 4,
 "nbformat_minor": 5
}
